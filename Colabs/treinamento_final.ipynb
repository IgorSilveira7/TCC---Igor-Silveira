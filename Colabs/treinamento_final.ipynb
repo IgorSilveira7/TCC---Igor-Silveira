{
  "nbformat": 4,
  "nbformat_minor": 0,
  "metadata": {
    "colab": {
      "name": "Untitled0.ipynb",
      "provenance": [],
      "collapsed_sections": [
        "6TNz5uB29Dy-",
        "MCyhgNU7Jzfp",
        "H13Xz-fPJ_mp"
      ]
    },
    "kernelspec": {
      "name": "python3",
      "display_name": "Python 3"
    },
    "language_info": {
      "name": "python"
    },
    "gpuClass": "standard",
    "accelerator": "GPU"
  },
  "cells": [
    {
      "cell_type": "code",
      "source": [
        "import pandas as pd\n",
        "import numpy as np"
      ],
      "metadata": {
        "id": "wsFMqQX-9Std"
      },
      "execution_count": null,
      "outputs": []
    },
    {
      "cell_type": "markdown",
      "source": [
        "Download dados anotados (todos os 236 docs) entre as 6 classes de interesse + classe outros"
      ],
      "metadata": {
        "id": "JhLyjCowDJNf"
      }
    },
    {
      "cell_type": "code",
      "source": [
        "! gdown --id 16VsQAJZzDY3cff07EFaitSpE-oCUcQnC\n",
        "! gdown --id 13L-RAEdaJzhR_K1zSUb491zynQFkT8eh"
      ],
      "metadata": {
        "id": "sq_kuODyDLOB"
      },
      "execution_count": null,
      "outputs": []
    },
    {
      "cell_type": "markdown",
      "source": [
        "**Download dados criados artificialmente (augmented data)**"
      ],
      "metadata": {
        "id": "9kVCHmuOnV4H"
      }
    },
    {
      "cell_type": "code",
      "source": [
        "! gdown --id 11oSFoZRYGuMs-7f4irbGMV3hgQ5Z-QGC\n",
        "! gdown --id 1bYlRguuHEkoxUBfhgBJlmtcN3_yehrnN\n",
        "! gdown --id 1ZaAgn32B5vGTZJgL3gG4cN0e1vf1foDp\n",
        "! gdown --id 1mjEE_T5rafvs7mlJ8RLsK6MedY9CZE4d"
      ],
      "metadata": {
        "id": "WpHGsCnznV_l"
      },
      "execution_count": null,
      "outputs": []
    },
    {
      "cell_type": "markdown",
      "source": [
        "**Carregamento dos dados**"
      ],
      "metadata": {
        "id": "eAKosQTOjhor"
      }
    },
    {
      "cell_type": "code",
      "source": [
        "data = pd.read_json('output_anotacoes.jsonl', lines=True)\n",
        "data"
      ],
      "metadata": {
        "id": "x3x3znej9eWm"
      },
      "execution_count": null,
      "outputs": []
    },
    {
      "cell_type": "code",
      "source": [
        "## carregamento classe outros\n",
        "\n",
        "import json\n",
        "\n",
        "with open('./outros_all.json', 'r') as file:\n",
        "  outros_data = json.load(file)\n",
        "\n",
        "outros = []\n",
        "for sent in outros_data:\n",
        "  outros.append((sent, 6))"
      ],
      "metadata": {
        "id": "etdjm4MlRIeQ"
      },
      "execution_count": null,
      "outputs": []
    },
    {
      "cell_type": "code",
      "source": [
        "## carregamento dados criados (Augmented)\n",
        "\n",
        "with open('./clausula_atraso_augmentation.json', 'r') as file:\n",
        "  clausula_atraso_augmentation = json.load(file)\n",
        "\n",
        "with open('./local_augmentation.json', 'r') as file:\n",
        "  local_augmentation = json.load(file)\n",
        "\n",
        "with open('./prazo_entrega_augmentation.json', 'r') as file:\n",
        "  prazo_entrega_augmentation = json.load(file)\n",
        "\n",
        "with open('./prazo_pagamento_augmentation.json', 'r') as file:\n",
        "  prazo_pagamento_augmentation = json.load(file)"
      ],
      "metadata": {
        "id": "4ZECEu6tjkU-"
      },
      "execution_count": null,
      "outputs": []
    },
    {
      "cell_type": "markdown",
      "source": [
        "Atribuir uma numeração a cada classe"
      ],
      "metadata": {
        "id": "0b3oLmz5ntri"
      }
    },
    {
      "cell_type": "code",
      "source": [
        "def label_to_int(label):\n",
        "  if(label == 'objeto'):\n",
        "    return 0\n",
        "  if(label == 'qualificação tecnica'):\n",
        "    return 1\n",
        "  if(label == 'prazo de pagamento'):\n",
        "    return 2\n",
        "  if(label == 'clausula de atraso de pagamento'):\n",
        "    return 3\n",
        "  if(label == 'prazo de entrega'):\n",
        "    return 4\n",
        "  if(label == 'local de entrega / execução do serviço'):\n",
        "    return 5\n",
        "  if(label == 'outros'):\n",
        "    return 6"
      ],
      "metadata": {
        "id": "BScFk7VE0ZoX"
      },
      "execution_count": null,
      "outputs": []
    },
    {
      "cell_type": "markdown",
      "source": [
        "Separar os dados por classe"
      ],
      "metadata": {
        "id": "CPCmG9gtnyO7"
      }
    },
    {
      "cell_type": "code",
      "source": [
        "objeto = []\n",
        "qualificacao_tecnica = []\n",
        "prazo_pagamento = []\n",
        "clausula_atraso = []\n",
        "prazo_entrega = []\n",
        "local = []\n",
        "\n",
        "def print_len_classes():\n",
        "  print(\"Objeto: \",len(objeto))\n",
        "  print(\"Qualificação tecnica: \",len(qualificacao_tecnica))\n",
        "  print(\"prazo pagamento: \",len(prazo_pagamento))\n",
        "  print(\"clausula atraso: \",len(clausula_atraso))\n",
        "  print(\"prazo entrega: \",len(prazo_entrega))\n",
        "  print(\"local: \",len(local))\n",
        "  print(\"outros: \", len(outros))\n",
        "  print(\"Objeto sem repetições: \",len(set(objeto)))\n",
        "  print(\"Qualificação tecnica sem repetições: \",len(set(qualificacao_tecnica)))\n",
        "  print(\"prazo pagamento sem repetições: \",len(set(prazo_pagamento)))\n",
        "  print(\"clausula atraso sem repetições: \",len(set(clausula_atraso)))\n",
        "  print(\"prazo entrega sem repetições: \",len(set(prazo_entrega)))\n",
        "  print(\"local sem repetições: \",len(set(local)))\n",
        "  print(\"outros sem repetiçao: \", len(set(outros)))\n"
      ],
      "metadata": {
        "id": "9tJvax97rHx5"
      },
      "execution_count": null,
      "outputs": []
    },
    {
      "cell_type": "code",
      "source": [
        "def add_to_right_array(elem, label):\n",
        "  if(label == 0):\n",
        "    objeto.append((elem, label))\n",
        "  if(label == 1):\n",
        "    qualificacao_tecnica.append((elem, label))\n",
        "  if(label == 2):\n",
        "    prazo_pagamento.append((elem, label))\n",
        "  if(label == 3):\n",
        "    clausula_atraso.append((elem, label))\n",
        "  if(label == 4):\n",
        "    prazo_entrega.append((elem, label))\n",
        "  if(label == 5):\n",
        "    local.append((elem, label))"
      ],
      "metadata": {
        "id": "zJc3abyMq6O-"
      },
      "execution_count": null,
      "outputs": []
    },
    {
      "cell_type": "code",
      "source": [
        "for element in data.values.tolist():\n",
        "  for lab in element[2]:\n",
        "    indexInit = int(lab[0])\n",
        "    indexFinal = int(lab[1])\n",
        "    label = label_to_int(lab[2])\n",
        "\n",
        "    if(type(element[1]) == type('str')):\n",
        "      add_to_right_array(element[1][indexInit:indexFinal], label)\n",
        "    else:\n",
        "      add_to_right_array(element[3][indexInit:indexFinal], label)\n",
        "    \n",
        "    "
      ],
      "metadata": {
        "id": "ONwvORyd_YZI"
      },
      "execution_count": null,
      "outputs": []
    },
    {
      "cell_type": "code",
      "source": [
        "len(outros)"
      ],
      "metadata": {
        "id": "_85QM1tntLr9",
        "colab": {
          "base_uri": "https://localhost:8080/"
        },
        "outputId": "9bb34999-7a86-4d21-b2f7-977a2d74e4d8"
      },
      "execution_count": null,
      "outputs": [
        {
          "output_type": "execute_result",
          "data": {
            "text/plain": [
              "16411"
            ]
          },
          "metadata": {},
          "execution_count": 12
        }
      ]
    },
    {
      "cell_type": "code",
      "source": [
        "print_len_classes()"
      ],
      "metadata": {
        "colab": {
          "base_uri": "https://localhost:8080/"
        },
        "id": "ejynF9XNr_r3",
        "outputId": "7a4d6f65-0ef4-4a94-8ea1-0de81552ad6f"
      },
      "execution_count": null,
      "outputs": [
        {
          "output_type": "stream",
          "name": "stdout",
          "text": [
            "Objeto:  455\n",
            "Qualificação tecnica:  860\n",
            "prazo pagamento:  263\n",
            "clausula atraso:  153\n",
            "prazo entrega:  195\n",
            "local:  151\n",
            "outros:  16411\n",
            "Objeto sem repetições:  403\n",
            "Qualificação tecnica sem repetições:  644\n",
            "prazo pagamento sem repetições:  226\n",
            "clausula atraso sem repetições:  126\n",
            "prazo entrega sem repetições:  182\n",
            "local sem repetições:  147\n",
            "outros sem repetiçao:  12445\n"
          ]
        }
      ]
    },
    {
      "cell_type": "markdown",
      "source": [
        "###**Text augmentation para classes com poucos dados**"
      ],
      "metadata": {
        "id": "6TNz5uB29Dy-"
      }
    },
    {
      "cell_type": "code",
      "execution_count": null,
      "metadata": {
        "id": "onHR3dohILLv"
      },
      "outputs": [],
      "source": [
        "!pip install googletrans==4.0.0rc1"
      ]
    },
    {
      "cell_type": "code",
      "source": [
        "import googletrans  \n",
        "from googletrans import Translator"
      ],
      "metadata": {
        "id": "g3wzPX0pIOLh"
      },
      "execution_count": null,
      "outputs": []
    },
    {
      "cell_type": "code",
      "source": [
        "translator = Translator()"
      ],
      "metadata": {
        "id": "MBy5VDHOOv7t"
      },
      "execution_count": null,
      "outputs": []
    },
    {
      "cell_type": "code",
      "source": [
        "objeto = list(set(objeto))\n",
        "qualificacao_tecnica = list(set(qualificacao_tecnica))\n",
        "prazo_pagamento = list(set(prazo_pagamento))\n",
        "clausula_atraso = list(set(clausula_atraso))\n",
        "prazo_entrega = list(set(prazo_entrega))\n",
        "local = list(set(local))"
      ],
      "metadata": {
        "id": "QmyIgFFzXTBN"
      },
      "execution_count": null,
      "outputs": []
    },
    {
      "cell_type": "code",
      "source": [
        "clausula_atraso"
      ],
      "metadata": {
        "id": "ILC15N28aJte"
      },
      "execution_count": null,
      "outputs": []
    },
    {
      "cell_type": "code",
      "source": [
        "import random\n",
        "\n",
        "prazo_pagamento_augmentation = []\n",
        "clausula_atraso_augmentation = []\n",
        "prazo_entrega_augmentation = []\n",
        "local_augmentation = []\n",
        "\n",
        "\n",
        "random.shuffle(prazo_pagamento)\n",
        "random.shuffle(clausula_atraso)\n",
        "random.shuffle(prazo_entrega)\n",
        "random.shuffle(local)\n",
        "\n",
        "##Prazo pagamento\n",
        "for el in prazo_pagamento[:120]:\n",
        "  original_text = el[0].replace(\"\\n\", \"\")\n",
        "  translated_french_text = translator.translate(original_text, src=\"pt\", dest= 'fr')\n",
        "  back_text = translator.translate(translated_french_text.text, src=\"fr\", dest= 'pt')\n",
        "  if(back_text not in prazo_pagamento):\n",
        "    prazo_pagamento.append((back_text.text, 2))\n",
        "    prazo_pagamento_augmentation.append(back_text.text)\n",
        "\n",
        "##Clausula atraso de pagamento\n",
        "for el in clausula_atraso[:120]:\n",
        "  original_text = el[0].replace(\"\\n\", \"\")\n",
        "  translated_french_text = translator.translate(original_text, src=\"pt\", dest= 'fr')\n",
        "  back_text = translator.translate(translated_french_text.text, src=\"fr\", dest= 'pt')\n",
        "  if(back_text not in clausula_atraso):\n",
        "    clausula_atraso.append((back_text.text, 3))\n",
        "    clausula_atraso_augmentation.append(back_text.text)\n",
        "\n",
        "##Prazo de entrega\n",
        "for el in prazo_entrega[:120]:\n",
        "  original_text = el[0].replace(\"\\n\", \"\")\n",
        "  translated_french_text = translator.translate(original_text, src=\"pt\", dest= 'fr')\n",
        "  back_text = translator.translate(translated_french_text.text, src=\"fr\", dest= 'pt')\n",
        "  if(back_text not in prazo_entrega):\n",
        "    prazo_entrega.append((back_text.text, 4))\n",
        "    prazo_entrega_augmentation.append(back_text.text)\n",
        "\n",
        "##Local de entrega\n",
        "for el in local[:120]:\n",
        "  original_text = el[0].replace(\"\\n\", \"\")\n",
        "  translated_french_text = translator.translate(original_text, src=\"pt\", dest= 'fr')\n",
        "  back_text = translator.translate(translated_french_text.text, src=\"fr\", dest= 'pt')\n",
        "  if(back_text not in local):\n",
        "    local.append((back_text.text, 5))\n",
        "    local_augmentation.append(back_text.text)\n",
        "    \n",
        "\n"
      ],
      "metadata": {
        "id": "I1c4ZS5e7pVy"
      },
      "execution_count": null,
      "outputs": []
    },
    {
      "cell_type": "code",
      "source": [
        "print_len_classes()"
      ],
      "metadata": {
        "id": "r5EQk4MD9dpu",
        "colab": {
          "base_uri": "https://localhost:8080/"
        },
        "outputId": "080958c6-5de7-4cdd-9d1c-f92c7d9d5791"
      },
      "execution_count": null,
      "outputs": [
        {
          "output_type": "stream",
          "name": "stdout",
          "text": [
            "Objeto:  403\n",
            "Qualificação tecnica:  644\n",
            "prazo pagamento:  226\n",
            "clausula atraso:  126\n",
            "prazo entrega:  182\n",
            "local:  147\n",
            "outros:  16411\n"
          ]
        }
      ]
    },
    {
      "cell_type": "markdown",
      "source": [
        "###Separação dos dados em treinamento e teste"
      ],
      "metadata": {
        "id": "RDFuikOiER9P"
      }
    },
    {
      "cell_type": "code",
      "source": [
        "treino = []\n",
        "teste = []\n",
        "validacao = []\n",
        "classes = []\n",
        "\n",
        "classes.append(set(objeto))\n",
        "classes.append(set(qualificacao_tecnica))\n",
        "classes.append(set(prazo_pagamento))\n",
        "classes.append(set(clausula_atraso))\n",
        "classes.append(set(prazo_entrega))\n",
        "classes.append(set(local))\n",
        "classes.append(set(outros))"
      ],
      "metadata": {
        "id": "NGUrvMBIEOAT"
      },
      "execution_count": null,
      "outputs": []
    },
    {
      "cell_type": "code",
      "source": [
        "def add_all_to_list(from_list, to_list):\n",
        "  for el in from_list:\n",
        "    to_list.append((el[0], int(el[1])))"
      ],
      "metadata": {
        "id": "_ltyt09LI8b0"
      },
      "execution_count": null,
      "outputs": []
    },
    {
      "cell_type": "code",
      "source": [
        "import random\n",
        "\n",
        "random.seed(40)\n",
        "\n",
        "for lista in classes:\n",
        "  lista = list(lista)\n",
        "  random.shuffle(lista)\n",
        "  train, validate, test = np.split(lista, [int(len(lista)*0.7), int(len(lista)*0.8)])\n",
        "  add_all_to_list(train, treino)\n",
        "  add_all_to_list(test, teste)\n",
        "  add_all_to_list(validate, validacao)\n",
        "\n",
        "\n",
        "\n",
        "\n",
        "print(\"treino:\", len(treino))\n",
        "print(\"teste:\", len(teste))\n",
        "print(\"validação:\", len(validacao))"
      ],
      "metadata": {
        "colab": {
          "base_uri": "https://localhost:8080/"
        },
        "id": "4vLBy0BkEgj-",
        "outputId": "31938042-79e4-45f6-c60b-f03050af9064"
      },
      "execution_count": null,
      "outputs": [
        {
          "output_type": "stream",
          "name": "stdout",
          "text": [
            "treino: 9918\n",
            "teste: 2838\n",
            "validação: 1417\n"
          ]
        }
      ]
    },
    {
      "cell_type": "markdown",
      "source": [
        "**Verificar número específico de dados de cada classe**"
      ],
      "metadata": {
        "id": "vHFe1hHeLUFq"
      }
    },
    {
      "cell_type": "markdown",
      "source": [
        "**Balancear classe de treinamento**"
      ],
      "metadata": {
        "id": "reiUicDALbx5"
      }
    },
    {
      "cell_type": "code",
      "source": [
        "## ÍNDICES\n",
        "## Objeto = 0, qualificação = 1, prazo entrega = 2, clausula = 3, prazo pagamento = 4\n",
        "## prazo pagamento = 4, local entrega/exec = 5, outros = 6\n",
        "\n",
        "count = [0,0,0,0,0,0,0] ##seguindo os indices acima\n",
        "\n",
        "for dat in treino:\n",
        "  count[int(dat[1])] += 1\n",
        "\n",
        "\n",
        "print(count)"
      ],
      "metadata": {
        "colab": {
          "base_uri": "https://localhost:8080/"
        },
        "id": "DHKUtNDxi5xP",
        "outputId": "8441a195-a235-40cd-a300-cce928c13885"
      },
      "execution_count": null,
      "outputs": [
        {
          "output_type": "stream",
          "name": "stdout",
          "text": [
            "[282, 450, 158, 88, 127, 102, 8711]\n"
          ]
        }
      ]
    },
    {
      "cell_type": "code",
      "source": [
        "random.shuffle(clausula_atraso_augmentation)\n",
        "random.shuffle(local_augmentation)\n",
        "random.shuffle(prazo_entrega_augmentation)\n",
        "random.shuffle(prazo_pagamento_augmentation)\n",
        "\n",
        "\n",
        "for el in clausula_atraso_augmentation:\n",
        "  treino.append((el, 3))\n",
        "\n",
        "for el in local_augmentation:\n",
        "  treino.append((el, 5))\n",
        "\n",
        "for el in prazo_entrega_augmentation:\n",
        "  treino.append((el, 4))\n",
        "\n",
        "for el in prazo_pagamento_augmentation:\n",
        "  treino.append((el, 2))"
      ],
      "metadata": {
        "id": "_-LneYb2i9KV"
      },
      "execution_count": null,
      "outputs": []
    },
    {
      "cell_type": "code",
      "source": [
        "## ÍNDICES\n",
        "## Objeto = 0, qualificação = 1, prazo entrega = 2, clausula = 3, prazo pagamento = 4\n",
        "## prazo pagamento = 4, local entrega/exec = 5, outros = 6\n",
        "\n",
        "count = [0,0,0,0,0,0,0] ##seguindo os indices acima\n",
        "final_list_treino = []\n",
        "\n",
        "for dat in treino:\n",
        "  if(int(dat[1]) != 6):\n",
        "    if(count[int(dat[1])] < 200):\n",
        "      count[int(dat[1])] += 1\n",
        "      final_list_treino.append(dat)\n",
        "  else:\n",
        "    if(count[int(dat[1])] < 1200):\n",
        "      count[int(dat[1])] += 1\n",
        "      final_list_treino.append(dat)\n",
        "\n",
        "\n",
        "print(count)\n",
        "treino = final_list_treino"
      ],
      "metadata": {
        "id": "ehKW0-teDZN2",
        "colab": {
          "base_uri": "https://localhost:8080/"
        },
        "outputId": "5587c0b4-d94d-4b61-c7fd-5948cad7dfca"
      },
      "execution_count": null,
      "outputs": [
        {
          "output_type": "stream",
          "name": "stdout",
          "text": [
            "[200, 200, 200, 200, 200, 200, 1200]\n"
          ]
        }
      ]
    },
    {
      "cell_type": "code",
      "source": [
        "teste[1]"
      ],
      "metadata": {
        "id": "HluSvnLayGiT",
        "colab": {
          "base_uri": "https://localhost:8080/"
        },
        "outputId": "c757e601-817d-488e-8146-96d13642bd03"
      },
      "execution_count": null,
      "outputs": [
        {
          "output_type": "execute_result",
          "data": {
            "text/plain": [
              "{'X': 'O presente Termo de Referência tem por objeto o registro de preços para aquisição de lixeira seletiva com 04 (quatro) peças, para atender a Secretaria de Estado da Educação, Cultura e Esportes e suas unidades escolares, conforme quantidades e exigências estabelecidas no Termo de Referência.',\n",
              " 'y': 0}"
            ]
          },
          "metadata": {},
          "execution_count": 76
        }
      ]
    },
    {
      "cell_type": "markdown",
      "source": [
        "**Preparando conjuntos para treinamento**"
      ],
      "metadata": {
        "id": "9wXjWk8sRMGK"
      }
    },
    {
      "cell_type": "code",
      "source": [
        "from sklearn.utils import shuffle\n",
        "\n",
        "TRAIN_DATA = pd.DataFrame(treino, columns=[\"text\", \"label\"])\n",
        "np.random.shuffle(TRAIN_DATA.values)\n",
        "\n",
        "TEST_DATA = pd.DataFrame(teste, columns=[\"text\", \"label\"])\n",
        "np.random.shuffle(TEST_DATA.values)\n",
        "\n",
        "VALID_DATA = pd.DataFrame(validacao, columns=[\"text\", \"label\"])\n",
        "np.random.shuffle(VALID_DATA.values)"
      ],
      "metadata": {
        "id": "XvLzbCTBRO9r"
      },
      "execution_count": null,
      "outputs": []
    },
    {
      "cell_type": "markdown",
      "source": [
        "Conjunto de treinamento"
      ],
      "metadata": {
        "id": "qZLlPOEMRS10"
      }
    },
    {
      "cell_type": "code",
      "source": [
        "X = TRAIN_DATA['text']\n",
        "y = TRAIN_DATA['label']\n",
        "\n",
        "data = [{'X': act, 'y': class_} for (act, class_) in zip(X, y)]\n",
        "treino = data"
      ],
      "metadata": {
        "id": "CXxgIszgRUSQ"
      },
      "execution_count": null,
      "outputs": []
    },
    {
      "cell_type": "markdown",
      "source": [
        "Conjunto de teste"
      ],
      "metadata": {
        "id": "zkdQRdv-RjUP"
      }
    },
    {
      "cell_type": "code",
      "source": [
        "X = TEST_DATA['text']\n",
        "y = TEST_DATA['label']\n",
        "\n",
        "data = [{'X': act, 'y': class_} for (act, class_) in zip(X, y)]\n",
        "teste = data"
      ],
      "metadata": {
        "id": "s_89HSC-Rkdu"
      },
      "execution_count": null,
      "outputs": []
    },
    {
      "cell_type": "markdown",
      "source": [
        "Conjunto de validação"
      ],
      "metadata": {
        "id": "wZjEAjCdRs0f"
      }
    },
    {
      "cell_type": "code",
      "source": [
        "X = VALID_DATA['text']\n",
        "y = VALID_DATA['label']\n",
        "\n",
        "data = [{'X': act, 'y': class_} for (act, class_) in zip(X, y)]\n",
        "validacao = data"
      ],
      "metadata": {
        "id": "ndpaNbJxRuWy"
      },
      "execution_count": null,
      "outputs": []
    },
    {
      "cell_type": "code",
      "source": [
        "treino[0]"
      ],
      "metadata": {
        "colab": {
          "base_uri": "https://localhost:8080/"
        },
        "id": "X_pZyz9xStMy",
        "outputId": "9bb1198f-e2a4-44d7-cc6e-278ae5b85a70"
      },
      "execution_count": null,
      "outputs": [
        {
          "output_type": "execute_result",
          "data": {
            "text/plain": [
              "{'X': 'Contratação de serviços comuns de engenharia, por demanda, para execução de manutenção predial preventiva e/ou corretiva, contemplando serviços de consertar, conservar, demolir, instalar, manter, montar e reparas as estruturas do prédio em questão, podendo também reformas de pequena monta sem alteração substancial da\\nestrutura que consistam de atividades simples, conforme orientação técnica do OT – IBR 002/2009 do Instituto Brasileiro de Auditores de Obras Públicas - IBRAOP e que possam ser objetivamente definidas conforme especificações usuais no mercado local e preços referenciais do SINAPI, não desonerada, que possuam natureza padronizável e pouco complexa nas instalações prediais na sede da sede administrativa do polo moveleiro no município de Feijó – Acre.',\n",
              " 'y': 0}"
            ]
          },
          "metadata": {},
          "execution_count": 50
        }
      ]
    },
    {
      "cell_type": "markdown",
      "source": [
        "# Preparação dos dados"
      ],
      "metadata": {
        "id": "vndSvpbdHJFW"
      }
    },
    {
      "cell_type": "code",
      "source": [
        "import nltk\n",
        "from nltk.stem.porter import *\n",
        "from nltk.stem import *\n",
        "\n",
        "nltk.download('wordnet')\n",
        "nltk.download('omw-1.4')\n",
        "from sklearn.feature_extraction.text import TfidfVectorizer\n",
        "from sklearn.base import BaseEstimator"
      ],
      "metadata": {
        "id": "ZdkCcEJCIM3Y",
        "colab": {
          "base_uri": "https://localhost:8080/"
        },
        "outputId": "cd49d47f-ae8f-4dca-af7e-68abb0b80814"
      },
      "execution_count": null,
      "outputs": [
        {
          "output_type": "stream",
          "name": "stderr",
          "text": [
            "[nltk_data] Downloading package wordnet to /root/nltk_data...\n",
            "[nltk_data]   Package wordnet is already up-to-date!\n",
            "[nltk_data] Downloading package omw-1.4 to /root/nltk_data...\n",
            "[nltk_data]   Package omw-1.4 is already up-to-date!\n"
          ]
        }
      ]
    },
    {
      "cell_type": "code",
      "source": [
        "stemmer = PorterStemmer()"
      ],
      "metadata": {
        "id": "pLgWr39uH8n-"
      },
      "execution_count": null,
      "outputs": []
    },
    {
      "cell_type": "code",
      "source": [
        "# Lematização\n",
        "def lemmatize_stemming(text):\n",
        "    return stemmer.stem(WordNetLemmatizer().lemmatize(text, pos='v'))"
      ],
      "metadata": {
        "id": "pxnITUIxH_aD"
      },
      "execution_count": null,
      "outputs": []
    },
    {
      "cell_type": "code",
      "source": [
        "# Colocando todas as palavras para caixa baixa.\n",
        "def preprocess(text):\n",
        "  return lemmatize_stemming(text.lower())"
      ],
      "metadata": {
        "id": "j4_b5XOcIEht"
      },
      "execution_count": null,
      "outputs": []
    },
    {
      "cell_type": "code",
      "source": [
        "class Text2TfIdfTransformer(BaseEstimator):\n",
        "    def __init__(self):\n",
        "        self._model = TfidfVectorizer()\n",
        "        pass\n",
        "\n",
        "    def fit(self, x, y=None):\n",
        "        x = x.apply(lambda x : preprocess(x))\n",
        "        self._model.fit(x)\n",
        "        return self\n",
        "\n",
        "    def transform(self, x):\n",
        "        return self._model.transform(x)"
      ],
      "metadata": {
        "id": "FSxRzqylIIeJ"
      },
      "execution_count": null,
      "outputs": []
    },
    {
      "cell_type": "markdown",
      "source": [
        "# Treinamento"
      ],
      "metadata": {
        "id": "6ulsoU4_JDOF"
      }
    },
    {
      "cell_type": "code",
      "source": [
        "from sklearn.metrics import accuracy_score, f1_score, precision_score, recall_score, classification_report, confusion_matrix, precision_recall_fscore_support, make_scorer\n",
        "from sklearn.model_selection import train_test_split, KFold, cross_val_score, StratifiedKFold, GridSearchCV\n",
        "from sklearn.pipeline import Pipeline\n",
        "from sklearn.linear_model import LogisticRegression, ElasticNet\n",
        "from sklearn.ensemble import RandomForestClassifier\n",
        "from sklearn.tree import DecisionTreeClassifier"
      ],
      "metadata": {
        "id": "4wQR2R-TJWYL"
      },
      "execution_count": null,
      "outputs": []
    },
    {
      "cell_type": "code",
      "source": [
        "from sklearn.utils.multiclass import unique_labels\n",
        "from sklearn.metrics import confusion_matrix\n",
        "import matplotlib.pyplot as plt\n",
        "import itertools\n",
        "import numpy as np\n",
        "\n",
        "\n",
        "def plot_confusion_matrix(cm, classes, normalize=False, title='Confusion matrix',\n",
        "                          cmap=plt.cm.get_cmap('Blues')):\n",
        "    # Função importada dos exemplos do SKLearn\n",
        "    if normalize:\n",
        "        cm = cm.astype('float') / cm.sum(axis=1)[:, np.newaxis]\n",
        "\n",
        "    plt.imshow(cm, interpolation='nearest', cmap=cmap)\n",
        "    plt.title(title)\n",
        "    plt.colorbar()\n",
        "    tick_marks = np.arange(len(classes))\n",
        "    plt.xticks(tick_marks, classes, rotation=45)\n",
        "    plt.yticks(tick_marks, classes)\n",
        "\n",
        "    fmt = '.2f' if normalize else 'd'\n",
        "    thresh = cm.max() / 2.\n",
        "    for i, j in itertools.product(range(cm.shape[0]), range(cm.shape[1])):\n",
        "        plt.text(j, i, format(cm[i, j], fmt),\n",
        "                 horizontalalignment=\"center\",\n",
        "                 color=\"white\" if cm[i, j] > thresh else \"black\")\n",
        "\n",
        "    plt.ylabel('True label')\n",
        "    plt.xlabel('Predicted label')\n",
        "    plt.tight_layout()"
      ],
      "metadata": {
        "id": "BKq1ICqcLehv"
      },
      "execution_count": null,
      "outputs": []
    },
    {
      "cell_type": "code",
      "source": [
        "aux_dt = [TRAIN_DATA, VALID_DATA]\n",
        "aux_dt = pd.concat(aux_dt)"
      ],
      "metadata": {
        "id": "0JMJFxkgwWQ9"
      },
      "execution_count": null,
      "outputs": []
    },
    {
      "cell_type": "code",
      "source": [
        "X_train, y_train = aux_dt['text'], aux_dt['label']"
      ],
      "metadata": {
        "id": "y7kTskWHJJnz"
      },
      "execution_count": null,
      "outputs": []
    },
    {
      "cell_type": "code",
      "source": [
        "folds = 10\n",
        "kfold = StratifiedKFold(folds)\n",
        "\n",
        "def evaluate_model(model, predicts, y_val):\n",
        "    accuracy = accuracy_score(y_val, predicts)\n",
        "    scores = precision_recall_fscore_support(y_val, predicts, average='macro')\n",
        "    print(f'- Precision: {scores[0]}\\n- Recall: {scores[1]}\\n- F1Score: {scores[2]}\\n- Acurácia: {accuracy}')"
      ],
      "metadata": {
        "id": "eRqb3rHhJEye"
      },
      "execution_count": null,
      "outputs": []
    },
    {
      "cell_type": "markdown",
      "source": [
        "## Random Forest"
      ],
      "metadata": {
        "id": "MCyhgNU7Jzfp"
      }
    },
    {
      "cell_type": "code",
      "source": [
        "pl_random_forest_tf_idf = Pipeline(steps=[('tfidf', Text2TfIdfTransformer()),\n",
        "                         ('clf', RandomForestClassifier(random_state=40))])\n",
        "params = { \n",
        "    'clf__n_estimators': [200, 500],\n",
        "    'clf__max_features': ['auto', 'log2'],\n",
        "    'clf__max_depth' : [4,8],\n",
        "    'clf__criterion' :['gini', 'entropy']\n",
        "}\n",
        "grid = GridSearchCV(estimator=pl_random_forest_tf_idf, param_grid=params, scoring='f1_macro', cv=folds) \n",
        "grid.fit(X_train, y_train)"
      ],
      "metadata": {
        "id": "hguS3xjUJuUd"
      },
      "execution_count": null,
      "outputs": []
    },
    {
      "cell_type": "code",
      "source": [
        "print(f'Melhor n_estimators: {grid.best_params_[\"clf__n_estimators\"]}. Melhor max_features: {grid.best_params_[\"clf__max_features\"]}.')\n",
        "print(f'Melhor max_depth: {grid.best_params_[\"clf__max_depth\"]}. Melhor criterion: {grid.best_params_[\"clf__criterion\"]}.')\n",
        "print(f'Resultou no F1 {grid.best_score_} durante o {folds}-fold')"
      ],
      "metadata": {
        "colab": {
          "base_uri": "https://localhost:8080/"
        },
        "id": "RT-z9NIYKQTG",
        "outputId": "b25e0f81-906d-4731-db23-7b41076d3443"
      },
      "execution_count": null,
      "outputs": [
        {
          "output_type": "stream",
          "name": "stdout",
          "text": [
            "Melhor n_estimators: 200. Melhor max_features: auto.\n",
            "Melhor max_depth: 8. Melhor criterion: entropy.\n",
            "Resultou no F1 0.4596827863396674 durante o 10-fold\n"
          ]
        }
      ]
    },
    {
      "cell_type": "markdown",
      "source": [
        "#### Treinando o modelo Random Forest usando os melhores parametros"
      ],
      "metadata": {
        "id": "H13Xz-fPJ_mp"
      }
    },
    {
      "cell_type": "code",
      "source": [
        "best_params = grid.best_params_\n",
        "\n",
        "pl_random_forest_tf_idf = Pipeline(steps=[('tfidf', Text2TfIdfTransformer()),\n",
        "                         ('clf', RandomForestClassifier(\n",
        "                             random_state=42,\n",
        "                             n_estimators=best_params['clf__n_estimators'],\n",
        "                             max_features=best_params['clf__max_features'],\n",
        "                             max_depth=best_params['clf__max_depth'],\n",
        "                             criterion=best_params['clf__criterion'])\n",
        "                         )])\n",
        "pl_random_forest_tf_idf.fit(X_train, y_train)\n",
        "\n",
        "pred = pl_random_forest_tf_idf.predict(TEST_DATA['text'])\n",
        "evaluate_model(pl_random_forest_tf_idf, pred, TEST_DATA['label'])\n",
        "\n",
        "conf = confusion_matrix(TEST_DATA['label'], pred)\n",
        "plot_confusion_matrix(conf, y.unique())"
      ],
      "metadata": {
        "id": "nXFDxjIcKIs7",
        "colab": {
          "base_uri": "https://localhost:8080/",
          "height": 421
        },
        "outputId": "a084ea6a-b3b9-4721-c249-7b1d5fc136d2"
      },
      "execution_count": null,
      "outputs": [
        {
          "output_type": "stream",
          "name": "stderr",
          "text": [
            "/usr/local/lib/python3.7/dist-packages/sklearn/metrics/_classification.py:1318: UndefinedMetricWarning: Precision and F-score are ill-defined and being set to 0.0 in labels with no predicted samples. Use `zero_division` parameter to control this behavior.\n",
            "  _warn_prf(average, modifier, msg_start, len(result))\n"
          ]
        },
        {
          "output_type": "stream",
          "name": "stdout",
          "text": [
            "- Precision: 0.5446669382093594\n",
            "- Recail: 0.39144869659575543\n",
            "- F1Score: 0.4287635054021609\n",
            "- Acurácia: 0.8699300699300699\n"
          ]
        },
        {
          "output_type": "display_data",
          "data": {
            "text/plain": [
              "<Figure size 432x288 with 2 Axes>"
            ],
            "image/png": "[encoded data removed]"
          },
          "metadata": {
            "needs_background": "light"
          }
        }
      ]
    },
    {
      "cell_type": "markdown",
      "source": [
        "## Árvore de Decisão"
      ],
      "metadata": {
        "id": "VOQteZPeWMkr"
      }
    },
    {
      "cell_type": "code",
      "source": [
        "pl_dec_tree_tf_idf = Pipeline(steps=[('tfidf', Text2TfIdfTransformer()),\n",
        "                         ('clf', DecisionTreeClassifier())])\n",
        "\n",
        "params = {'clf__criterion':['gini','entropy'],'clf__max_depth':[4,5,6,7,8,9,10,11,12,15,20,30,40,50,70,90,120,150]}\n",
        "grid = GridSearchCV(estimator=pl_dec_tree_tf_idf, param_grid=params, scoring='f1_macro', cv=folds)\n",
        "grid.fit(X_train, y_train)"
      ],
      "metadata": {
        "colab": {
          "base_uri": "https://localhost:8080/"
        },
        "id": "5nBfjoMBWQDz",
        "outputId": "a3954cda-0e6c-4db8-cbd9-f2f4e25aaa6d"
      },
      "execution_count": null,
      "outputs": [
        {
          "output_type": "execute_result",
          "data": {
            "text/plain": [
              "GridSearchCV(cv=10,\n",
              "             estimator=Pipeline(steps=[('tfidf', Text2TfIdfTransformer()),\n",
              "                                       ('clf', DecisionTreeClassifier())]),\n",
              "             param_grid={'clf__criterion': ['gini', 'entropy'],\n",
              "                         'clf__max_depth': [4, 5, 6, 7, 8, 9, 10, 11, 12, 15,\n",
              "                                            20, 30, 40, 50, 70, 90, 120, 150]},\n",
              "             scoring='f1_macro')"
            ]
          },
          "metadata": {},
          "execution_count": 61
        }
      ]
    },
    {
      "cell_type": "code",
      "source": [
        "print(f'Melhor criterion: {grid.best_params_[\"clf__criterion\"]}. Melhor max_depth: {grid.best_params_[\"clf__max_depth\"]}.')\n",
        "print(f'Resultou no F1 {grid.best_score_} durante o {folds}-fold')"
      ],
      "metadata": {
        "id": "pqZZSMbXWdfm",
        "colab": {
          "base_uri": "https://localhost:8080/"
        },
        "outputId": "95b528ae-4148-4ec8-f778-63f7c3b90fa5"
      },
      "execution_count": null,
      "outputs": [
        {
          "output_type": "stream",
          "name": "stdout",
          "text": [
            "Melhor criterion: entropy. Melhor max_depth: 40.\n",
            "Resultou no F1 0.8720514965831005 durante o 10-fold\n"
          ]
        }
      ]
    },
    {
      "cell_type": "code",
      "source": [
        "best_params = grid.best_params_\n",
        "\n",
        "pl_dec_tree_tf_idf = Pipeline(steps=[('tfidf', Text2TfIdfTransformer()),\n",
        "                         ('clf', DecisionTreeClassifier(criterion=best_params['clf__criterion'], max_depth=best_params['clf__max_depth']))])\n",
        "pl_dec_tree_tf_idf.fit(X_train, y_train)\n",
        "\n",
        "pred = pl_dec_tree_tf_idf.predict(TEST_DATA['text'])\n",
        "evaluate_model(pl_dec_tree_tf_idf, pred, TEST_DATA['label'])\n",
        "\n",
        "conf = confusion_matrix(TEST_DATA['label'], pred)\n",
        "plot_confusion_matrix(conf, y.unique())"
      ],
      "metadata": {
        "colab": {
          "base_uri": "https://localhost:8080/",
          "height": 366
        },
        "id": "TpwwNr9mWi7J",
        "outputId": "20c2f765-bf2a-4353-8b4d-440c8eab7cac"
      },
      "execution_count": null,
      "outputs": [
        {
          "output_type": "stream",
          "name": "stdout",
          "text": [
            "- Precision: 0.723940339791811\n",
            "- Recall: 0.8915209798079393\n",
            "- F1Score: 0.7904823963544286\n",
            "- Acurácia: 0.9323467230443975\n"
          ]
        },
        {
          "output_type": "display_data",
          "data": {
            "text/plain": [
              "<Figure size 432x288 with 2 Axes>"
            ],
            "image/png": "[encoded data removed]"
          },
          "metadata": {
            "needs_background": "light"
          }
        }
      ]
    },
    {
      "cell_type": "markdown",
      "source": [
        "## XGBoost"
      ],
      "metadata": {
        "id": "3YnxXuhMO6sV"
      }
    },
    {
      "cell_type": "code",
      "source": [
        "import xgboost as xgb"
      ],
      "metadata": {
        "id": "L8Cv6J4oPWU3"
      },
      "execution_count": null,
      "outputs": []
    },
    {
      "cell_type": "code",
      "source": [
        "pl_xgb_tf_idf = Pipeline(steps=[('tfidf', Text2TfIdfTransformer()),\n",
        "                         ('clf', xgb.XGBClassifier(objective='multi:softmax', num_class=7))])\n",
        "\n",
        "params = {'clf__min_child_weight': [1, 5], 'clf__subsample': [0.6, 0.8],\n",
        "          'clf__colsample_bytree': [0.6, 1.0], 'clf__max_depth': [3, 4] }\n",
        "grid = GridSearchCV(estimator=pl_xgb_tf_idf, param_grid=params, scoring='f1_macro', cv=folds)\n",
        "grid.fit(X_train, y_train)"
      ],
      "metadata": {
        "id": "gVPb3mLUO9bR",
        "colab": {
          "base_uri": "https://localhost:8080/"
        },
        "outputId": "3c2c263a-79ad-4ce3-b3d6-dbde9ac2fa8e"
      },
      "execution_count": null,
      "outputs": [
        {
          "output_type": "execute_result",
          "data": {
            "text/plain": [
              "GridSearchCV(cv=10,\n",
              "             estimator=Pipeline(steps=[('tfidf', Text2TfIdfTransformer()),\n",
              "                                       ('clf',\n",
              "                                        XGBClassifier(num_class=7,\n",
              "                                                      objective='multi:softmax'))]),\n",
              "             param_grid={'clf__colsample_bytree': [0.6, 1.0],\n",
              "                         'clf__max_depth': [3, 4],\n",
              "                         'clf__min_child_weight': [1, 5],\n",
              "                         'clf__subsample': [0.6, 0.8]},\n",
              "             scoring='f1_macro')"
            ]
          },
          "metadata": {},
          "execution_count": 65
        }
      ]
    },
    {
      "cell_type": "code",
      "source": [
        "print(f'Melhor min_child_weight: {grid.best_params_[\"clf__min_child_weight\"]}. Melhor colsample_bytree: {grid.best_params_[\"clf__colsample_bytree\"]}.')\n",
        "print(f'Melhor subsample: {grid.best_params_[\"clf__subsample\"]}.  Melhor max_depth: {grid.best_params_[\"clf__max_depth\"]}.')\n",
        "print(f'Resultou no F1 {grid.best_score_} durante o {folds}-fold')\n"
      ],
      "metadata": {
        "colab": {
          "base_uri": "https://localhost:8080/"
        },
        "id": "3eREZALoPJZN",
        "outputId": "3f344341-46ef-4c6b-e021-90c65c24e9cf"
      },
      "execution_count": null,
      "outputs": [
        {
          "output_type": "stream",
          "name": "stdout",
          "text": [
            "Melhor min_child_weight: 1. Melhor colsample_bytree: 0.6.\n",
            "Melhor subsample: 0.8.  Melhor max_depth: 4.\n",
            "Resultou no F1 0.9038229142424796 durante o 10-fold\n"
          ]
        }
      ]
    },
    {
      "cell_type": "code",
      "source": [
        "best_params = grid.best_params_"
      ],
      "metadata": {
        "id": "jdpn2AnFPL7W"
      },
      "execution_count": null,
      "outputs": []
    },
    {
      "cell_type": "code",
      "source": [
        "pl_xgb_tf_idf = Pipeline(steps=[('tfidf', Text2TfIdfTransformer()),\n",
        "                         ('clf', xgb.XGBClassifier(\n",
        "                             num_class=6,\n",
        "                             objective='multi:softmax',\n",
        "                             max_depth=best_params['clf__max_depth'],\n",
        "                             subsample=best_params['clf__subsample'],\n",
        "                             min_child_weight=best_params['clf__min_child_weight'],\n",
        "                             colsample_bytree=best_params['clf__colsample_bytree'])\n",
        "                         )])\n",
        "pl_xgb_tf_idf.fit(X_train, y_train)"
      ],
      "metadata": {
        "colab": {
          "base_uri": "https://localhost:8080/"
        },
        "id": "nlKzH7Ko9vbV",
        "outputId": "3c7cfe82-9a54-4a4f-c75a-cdbc18b37030"
      },
      "execution_count": null,
      "outputs": [
        {
          "output_type": "execute_result",
          "data": {
            "text/plain": [
              "Pipeline(steps=[('tfidf', Text2TfIdfTransformer()),\n",
              "                ('clf',\n",
              "                 XGBClassifier(colsample_bytree=0.6, max_depth=4, num_class=6,\n",
              "                               objective='multi:softprob', subsample=0.8))])"
            ]
          },
          "metadata": {},
          "execution_count": 68
        }
      ]
    },
    {
      "cell_type": "code",
      "source": [
        "pred = pl_xgb_tf_idf.predict(TEST_DATA['text'])\n",
        "evaluate_model(pl_xgb_tf_idf, pred, TEST_DATA['label'])\n",
        "\n",
        "conf = confusion_matrix(TEST_DATA['label'], pred)\n",
        "plot_confusion_matrix(conf, y.unique())"
      ],
      "metadata": {
        "colab": {
          "base_uri": "https://localhost:8080/",
          "height": 366
        },
        "id": "I6hEQLRhPRtP",
        "outputId": "0116a04b-c7dc-430f-b6bd-e2f17dfc6cb5"
      },
      "execution_count": null,
      "outputs": [
        {
          "output_type": "stream",
          "name": "stdout",
          "text": [
            "- Precision: 0.8580832332651711\n",
            "- Recall: 0.8691329158607698\n",
            "- F1Score: 0.8618881127247013\n",
            "- Acurácia: 0.959830866807611\n"
          ]
        },
        {
          "output_type": "display_data",
          "data": {
            "text/plain": [
              "<Figure size 432x288 with 2 Axes>"
            ],
            "image/png": "[encoded data removed]"
          },
          "metadata": {
            "needs_background": "light"
          }
        }
      ]
    },
    {
      "cell_type": "markdown",
      "source": [
        "## SVM"
      ],
      "metadata": {
        "id": "PGCT_A8tEQU7"
      }
    },
    {
      "cell_type": "code",
      "source": [
        "from sklearn.svm import SVC\n",
        "from sklearn.feature_extraction.text import CountVectorizer\n",
        "from sklearn.feature_extraction.text import TfidfTransformer "
      ],
      "metadata": {
        "id": "VpsPkTqjEUef"
      },
      "execution_count": null,
      "outputs": []
    },
    {
      "cell_type": "code",
      "source": [
        "text_clf = Pipeline([('vect', CountVectorizer()), ('tfidf', TfidfTransformer()), ('clf', SVC(kernel='rbf'))])\n",
        "\n",
        "# defining parameter range\n",
        "params = {'clf__C': [0.1, 1, 10, 100, 1000],\n",
        "              'clf__gamma': [1, 0.1, 0.01, 0.001, 0.0001],\n",
        "              'clf__kernel': ['rbf']}\n",
        " \n",
        "grid = GridSearchCV(text_clf, params, refit = True, verbose = 3)\n",
        " \n",
        "# fitting the model for grid search\n",
        "grid.fit(X_train, y_train)"
      ],
      "metadata": {
        "id": "7kUCVJanEc1f"
      },
      "execution_count": null,
      "outputs": []
    },
    {
      "cell_type": "code",
      "source": [
        "print(f'Melhor C: {grid.best_params_[\"clf__C\"]}. Melhor gamma: {grid.best_params_[\"clf__gamma\"]}.')\n",
        "print(f'Resultou no F1 {grid.best_score_} durante o {folds}-fold')"
      ],
      "metadata": {
        "colab": {
          "base_uri": "https://localhost:8080/"
        },
        "id": "tZdC0WIcHDDp",
        "outputId": "4cde036d-65d9-442d-f482-1d178bec98ac"
      },
      "execution_count": null,
      "outputs": [
        {
          "output_type": "stream",
          "name": "stdout",
          "text": [
            "Melhor C: 100. Melhor gamma: 0.01.\n",
            "Resultou no F1 0.9567723164966069 durante o 10-fold\n"
          ]
        }
      ]
    },
    {
      "cell_type": "code",
      "source": [
        "best_params = grid.best_params_\n",
        "\n",
        "text_clf = Pipeline([('vect', CountVectorizer()), ('tfidf', TfidfTransformer()), ('clf', SVC(\n",
        "    kernel='rbf', gamma=best_params[\"clf__gamma\"], C=best_params[\"clf__C\"]))])\n",
        "\n",
        "text_clf.fit(X_train, y_train)"
      ],
      "metadata": {
        "colab": {
          "base_uri": "https://localhost:8080/"
        },
        "id": "V-xLN2UFH8U6",
        "outputId": "08abeefc-8efb-4205-90fc-d0b17c527b38"
      },
      "execution_count": null,
      "outputs": [
        {
          "output_type": "execute_result",
          "data": {
            "text/plain": [
              "Pipeline(steps=[('vect', CountVectorizer()), ('tfidf', TfidfTransformer()),\n",
              "                ('clf', SVC(C=100, gamma=0.01))])"
            ]
          },
          "metadata": {},
          "execution_count": 74
        }
      ]
    },
    {
      "cell_type": "code",
      "source": [
        "pred = text_clf.predict(TEST_DATA['text'])\n",
        "evaluate_model(text_clf, pred, TEST_DATA['label'])\n",
        "\n",
        "conf = confusion_matrix(TEST_DATA['label'], pred)\n",
        "plot_confusion_matrix(conf, y.unique())"
      ],
      "metadata": {
        "colab": {
          "base_uri": "https://localhost:8080/",
          "height": 366
        },
        "id": "-Fcic0RVI-om",
        "outputId": "9a7d0a2c-bec2-4b2c-de93-93f1bb45a4ae"
      },
      "execution_count": null,
      "outputs": [
        {
          "output_type": "stream",
          "name": "stdout",
          "text": [
            "- Precision: 0.8650445886455674\n",
            "- Recall: 0.9384197388642156\n",
            "- F1Score: 0.8988024840135689\n",
            "- Acurácia: 0.9675828047921071\n"
          ]
        },
        {
          "output_type": "display_data",
          "data": {
            "text/plain": [
              "<Figure size 432x288 with 2 Axes>"
            ],
            "image/png": "[encoded data removed]"
          },
          "metadata": {
            "needs_background": "light"
          }
        }
      ]
    },
    {
      "cell_type": "markdown",
      "source": [
        "# Bertimbau"
      ],
      "metadata": {
        "id": "N25Zq5FUG4GX"
      }
    },
    {
      "cell_type": "code",
      "execution_count": null,
      "metadata": {
        "id": "f1o7CjIu9UXE"
      },
      "outputs": [],
      "source": [
        "!pip3 install transformers"
      ]
    },
    {
      "cell_type": "code",
      "execution_count": null,
      "metadata": {
        "id": "Rc_JhAkp0vZJ"
      },
      "outputs": [],
      "source": [
        "import csv\n",
        "import random\n",
        "import nltk\n",
        "nltk.download('punkt')\n"
      ]
    },
    {
      "cell_type": "code",
      "execution_count": null,
      "metadata": {
        "id": "qnvOcCzMkIBp"
      },
      "outputs": [],
      "source": [
        "import os\n",
        "import torch\n",
        "import torch.nn as nn\n",
        "from torch import optim\n",
        "from transformers import AutoTokenizer, AutoModelForSequenceClassification, BertTokenizer, BertForSequenceClassification\n",
        "from sklearn.metrics import accuracy_score, f1_score, recall_score, precision_score, confusion_matrix\n",
        "from sklearn.model_selection import train_test_split, KFold, cross_val_score, StratifiedKFold, GridSearchCV\n",
        "from torch.utils.data import DataLoader\n",
        "import seaborn as sns\n",
        "from matplotlib import pyplot as plt\n",
        "import pandas as pd\n",
        "import numpy as np\n",
        "% matplotlib inline"
      ]
    },
    {
      "cell_type": "code",
      "execution_count": null,
      "metadata": {
        "id": "0AfdFL0O03-b"
      },
      "outputs": [],
      "source": [
        "seed_val = 42\n",
        "\n",
        "random.seed(seed_val)\n",
        "np.random.seed(seed_val)\n",
        "torch.manual_seed(seed_val)\n",
        "torch.cuda.manual_seed_all(seed_val)"
      ]
    },
    {
      "cell_type": "markdown",
      "metadata": {
        "id": "VbNLTwmJ23FE"
      },
      "source": [
        "## Preparando o Conjunto de dados. "
      ]
    },
    {
      "cell_type": "code",
      "source": [
        "## Objeto = 0\n",
        "## qualificação = 1\n",
        "## prazo pagamento = 2\n",
        "## clausula = 3\n",
        "## prazo entrega = 4\n",
        "## local entrega/exec = 5\n",
        "## outros = 6"
      ],
      "metadata": {
        "id": "jp8gW6mMLk5D"
      },
      "execution_count": null,
      "outputs": []
    },
    {
      "cell_type": "markdown",
      "metadata": {
        "id": "6OHZj1Ko3nos"
      },
      "source": [
        "Instanciando parânetros da rede neural"
      ]
    },
    {
      "cell_type": "code",
      "execution_count": null,
      "metadata": {
        "id": "icMF0E_R8h9W"
      },
      "outputs": [],
      "source": [
        "device = torch.device('cuda' if torch.cuda.is_available() else 'cpu')\n",
        "nclasses = 7\n",
        "nepochs = 4\n",
        "batch_size = 8\n",
        "batch_status = 32\n",
        "learning_rate = 1e-5\n",
        "\n",
        "max_length = 128\n",
        "write_path = 'model'"
      ]
    },
    {
      "cell_type": "markdown",
      "metadata": {
        "id": "P-fAnBqN3rCv"
      },
      "source": [
        "Separando os dados em batches"
      ]
    },
    {
      "cell_type": "code",
      "execution_count": null,
      "metadata": {
        "id": "d3P7XcEsLXji"
      },
      "outputs": [],
      "source": [
        "traindata = DataLoader(treino, batch_size=batch_size, shuffle=True)\n",
        "testdata = DataLoader(teste, batch_size=batch_size, shuffle=True)\n",
        "validationdata = DataLoader(validacao, batch_size=batch_size, shuffle=True)"
      ]
    },
    {
      "cell_type": "markdown",
      "metadata": {
        "id": "k8Gl_q253uV9"
      },
      "source": [
        "Inicilizando tokenizador, modelo, função de erro e otimizador:"
      ]
    },
    {
      "cell_type": "code",
      "execution_count": null,
      "metadata": {
        "id": "7WeMpVR18aPq"
      },
      "outputs": [],
      "source": [
        "tokenizer = BertTokenizer.from_pretrained('neuralmind/bert-large-portuguese-cased', do_lower_case=False)\n",
        "model = BertForSequenceClassification.from_pretrained('neuralmind/bert-large-portuguese-cased',\n",
        "                                                      num_labels=nclasses,\n",
        "                                                      output_attentions = False,\n",
        "                                                      output_hidden_states = False).to(device)\n",
        "model.cuda()\n",
        "\n",
        "optimizer = optim.AdamW(model.parameters(), lr=learning_rate)"
      ]
    },
    {
      "cell_type": "markdown",
      "metadata": {
        "id": "-4XlMiF43y56"
      },
      "source": [
        "Definindo método de avaliação"
      ]
    },
    {
      "cell_type": "code",
      "source": [
        "def classification_report(y, predicoes):\n",
        "  acc = accuracy_score(y, predicoes) * 100\n",
        "  recall = recall_score(y, predicoes, average='weighted') * 100\n",
        "  f1 = f1_score(y, predicoes, average='weighted') * 100\n",
        "  precision = precision_score(y, predicoes, average='weighted') * 100\n",
        "  return \"Acurácia: %.2f%%\\nRecall: %.2f%%\\nF1-score: %.2f%%\\nPrecision: %.2f%%\" % (acc, recall, f1, precision)\n"
      ],
      "metadata": {
        "id": "JZpZ_hH_zWQ2"
      },
      "execution_count": null,
      "outputs": []
    },
    {
      "cell_type": "code",
      "execution_count": null,
      "metadata": {
        "id": "0s8XdFhYSeRR"
      },
      "outputs": [],
      "source": [
        "def predict(model, texts):\n",
        "  inputs = tokenizer(texts, return_tensors='pt', padding=True, truncation=True, max_length=max_length).to(device)\n",
        "  output = model(**inputs)\n",
        "  return torch.argmax(output.logits, 1)"
      ]
    },
    {
      "cell_type": "code",
      "execution_count": null,
      "metadata": {
        "id": "AbiO9x2E81CS"
      },
      "outputs": [],
      "source": [
        "def evaluate(model, testdata):\n",
        "  model.eval()\n",
        "  y_real, y_pred = [], []\n",
        "  for batch_idx, inp in enumerate(testdata):\n",
        "    texts, labels = inp['X'], inp['y']\n",
        "                  \n",
        "    pred_labels = predict(model, texts)\n",
        "    \n",
        "    ##\n",
        "    ##labels = np.asarray(labels)\n",
        "    ##labels = torch.from_numpy(labels.astype('int'))\n",
        "    ##\n",
        "    y_real.extend(labels.tolist())\n",
        "    y_pred.extend(pred_labels.tolist())\n",
        "    \n",
        "    if (batch_idx+1) % batch_status == 0:\n",
        "      print('Progress:', round(batch_idx / len(testdata), 2), batch_idx)\n",
        "  \n",
        "  print(classification_report(y_real, y_pred))\n",
        "  f1 = f1_score(y_real, y_pred, average='weighted')\n",
        "  acc = accuracy_score(y_real, y_pred)\n",
        "  return f1, acc"
      ]
    },
    {
      "cell_type": "markdown",
      "metadata": {
        "id": "BfoYwmza39MJ"
      },
      "source": [
        "Treinamento"
      ]
    },
    {
      "cell_type": "code",
      "execution_count": null,
      "metadata": {
        "colab": {
          "base_uri": "https://localhost:8080/"
        },
        "id": "rRiZCQnO9hE1",
        "outputId": "b635cdb3-3a6e-4a68-c73e-2dd4a5688095"
      },
      "outputs": [
        {
          "output_type": "stream",
          "name": "stdout",
          "text": [
            "Train Epoch: 0 [32/300 (10%)]\tLoss: 1.519149\tTotal Loss: 1.610290\n",
            "Train Epoch: 0 [64/300 (21%)]\tLoss: 1.157961\tTotal Loss: 1.419120\n",
            "Train Epoch: 0 [96/300 (32%)]\tLoss: 1.315635\tTotal Loss: 1.272880\n",
            "Train Epoch: 0 [128/300 (42%)]\tLoss: 0.537916\tTotal Loss: 1.136200\n",
            "Train Epoch: 0 [160/300 (53%)]\tLoss: 0.411899\tTotal Loss: 1.003580\n",
            "Train Epoch: 0 [192/300 (64%)]\tLoss: 0.188218\tTotal Loss: 0.889820\n",
            "Train Epoch: 0 [224/300 (74%)]\tLoss: 0.166870\tTotal Loss: 0.800910\n",
            "Train Epoch: 0 [256/300 (85%)]\tLoss: 0.218716\tTotal Loss: 0.733460\n",
            "Train Epoch: 0 [288/300 (96%)]\tLoss: 0.073893\tTotal Loss: 0.679920\n",
            "Progress: 0.17 31\n",
            "Progress: 0.35 63\n",
            "Progress: 0.53 95\n",
            "Progress: 0.71 127\n",
            "Progress: 0.89 159\n",
            "Acurácia: 91.46%\n",
            "Recall: 91.46%\n",
            "F1-score: 92.68%\n",
            "Precision: 95.35%\n",
            "F1:  0.9268499063113548 Accuracy:  0.9146083274523642\n",
            "Saving best model...\n",
            "Train Epoch: 1 [32/300 (10%)]\tLoss: 0.056357\tTotal Loss: 0.149320\n",
            "Train Epoch: 1 [64/300 (21%)]\tLoss: 0.094612\tTotal Loss: 0.153720\n",
            "Train Epoch: 1 [96/300 (32%)]\tLoss: 0.025006\tTotal Loss: 0.140290\n",
            "Train Epoch: 1 [128/300 (42%)]\tLoss: 0.072644\tTotal Loss: 0.132210\n",
            "Train Epoch: 1 [160/300 (53%)]\tLoss: 0.173119\tTotal Loss: 0.133580\n",
            "Train Epoch: 1 [192/300 (64%)]\tLoss: 0.114805\tTotal Loss: 0.127920\n",
            "Train Epoch: 1 [224/300 (74%)]\tLoss: 0.032493\tTotal Loss: 0.135470\n",
            "Train Epoch: 1 [256/300 (85%)]\tLoss: 0.023487\tTotal Loss: 0.136440\n",
            "Train Epoch: 1 [288/300 (96%)]\tLoss: 0.071923\tTotal Loss: 0.135080\n",
            "Progress: 0.17 31\n",
            "Progress: 0.35 63\n",
            "Progress: 0.53 95\n",
            "Progress: 0.71 127\n",
            "Progress: 0.89 159\n",
            "Acurácia: 95.34%\n",
            "Recall: 95.34%\n",
            "F1-score: 95.74%\n",
            "Precision: 96.69%\n",
            "F1:  0.957375211579082 Accuracy:  0.9534227240649259\n",
            "Saving best model...\n",
            "Train Epoch: 2 [32/300 (10%)]\tLoss: 0.011115\tTotal Loss: 0.035370\n",
            "Train Epoch: 2 [64/300 (21%)]\tLoss: 0.014377\tTotal Loss: 0.054280\n",
            "Train Epoch: 2 [96/300 (32%)]\tLoss: 0.126442\tTotal Loss: 0.054720\n",
            "Train Epoch: 2 [128/300 (42%)]\tLoss: 0.023330\tTotal Loss: 0.055890\n",
            "Train Epoch: 2 [160/300 (53%)]\tLoss: 0.015934\tTotal Loss: 0.051330\n",
            "Train Epoch: 2 [192/300 (64%)]\tLoss: 0.024565\tTotal Loss: 0.059460\n",
            "Train Epoch: 2 [224/300 (74%)]\tLoss: 0.010118\tTotal Loss: 0.061370\n",
            "Train Epoch: 2 [256/300 (85%)]\tLoss: 0.019672\tTotal Loss: 0.060710\n",
            "Train Epoch: 2 [288/300 (96%)]\tLoss: 0.119786\tTotal Loss: 0.064050\n",
            "Progress: 0.17 31\n",
            "Progress: 0.35 63\n",
            "Progress: 0.53 95\n",
            "Progress: 0.71 127\n",
            "Progress: 0.89 159\n",
            "Acurácia: 97.53%\n",
            "Recall: 97.53%\n",
            "F1-score: 97.62%\n",
            "Precision: 97.87%\n",
            "F1:  0.9762098840328243 Accuracy:  0.9752999294283698\n",
            "Saving best model...\n",
            "Train Epoch: 3 [32/300 (10%)]\tLoss: 0.015553\tTotal Loss: 0.034570\n",
            "Train Epoch: 3 [64/300 (21%)]\tLoss: 0.014641\tTotal Loss: 0.041710\n",
            "Train Epoch: 3 [96/300 (32%)]\tLoss: 0.035710\tTotal Loss: 0.040440\n",
            "Train Epoch: 3 [128/300 (42%)]\tLoss: 0.014662\tTotal Loss: 0.045360\n",
            "Train Epoch: 3 [160/300 (53%)]\tLoss: 0.007159\tTotal Loss: 0.039960\n",
            "Train Epoch: 3 [192/300 (64%)]\tLoss: 0.770361\tTotal Loss: 0.053350\n",
            "Train Epoch: 3 [224/300 (74%)]\tLoss: 0.034296\tTotal Loss: 0.053060\n",
            "Train Epoch: 3 [256/300 (85%)]\tLoss: 0.040912\tTotal Loss: 0.051960\n",
            "Train Epoch: 3 [288/300 (96%)]\tLoss: 0.013245\tTotal Loss: 0.052910\n",
            "Progress: 0.17 31\n",
            "Progress: 0.35 63\n",
            "Progress: 0.53 95\n",
            "Progress: 0.71 127\n",
            "Progress: 0.89 159\n",
            "Acurácia: 97.95%\n",
            "Recall: 97.95%\n",
            "F1-score: 98.01%\n",
            "Precision: 98.14%\n",
            "F1:  0.9800667734165545 Accuracy:  0.9795342272406493\n",
            "Saving best model...\n"
          ]
        }
      ],
      "source": [
        "max_f1, repeat = 0, 0\n",
        "status = []\n",
        "for epoch in range(nepochs):\n",
        "  model.train()\n",
        "  losses = []\n",
        "  train_loss = 0\n",
        "\n",
        "  for batch_idx, inp in enumerate(traindata):\n",
        "    texts, labels = inp['X'], inp['y']\n",
        "\n",
        "    # treino\n",
        "    inputs = tokenizer(texts, return_tensors='pt', padding=True, truncation=True, max_length=max_length).to(device)\n",
        "    output = model(**inputs, labels=labels.to(device))\n",
        "\n",
        "    # Calculate loss\n",
        "    loss = output.loss\n",
        "    losses.append(float(loss))\n",
        "\n",
        "    train_loss += loss.item()\n",
        "\n",
        "    # Backpropagation\n",
        "    loss.backward()\n",
        "    optimizer.step()\n",
        "    optimizer.zero_grad()\n",
        "\n",
        "    # Display\n",
        "    if (batch_idx+1) % batch_status == 0:\n",
        "      print('Train Epoch: {} [{}/{} ({:.0f}%)]\\tLoss: {:.6f}\\tTotal Loss: {:.6f}'.format(epoch, \\\n",
        "        batch_idx+1, len(traindata), 100. * batch_idx / len(traindata), \n",
        "        float(loss), round(sum(losses) / len(losses), 5)))\n",
        "  \n",
        "  avg_train_loss = train_loss / len(traindata)  \n",
        "  \n",
        "  val_loss = 0\n",
        "  model.eval()\n",
        "  for batch_idx, inp in enumerate(validationdata):\n",
        "    texts, labels = inp['X'], inp['y']\n",
        "\n",
        "    with torch.no_grad():  \n",
        "      # validação\n",
        "      inputs = tokenizer(texts, return_tensors='pt', padding=True, truncation=True, max_length=max_length).to(device)\n",
        "      output = model(**inputs, labels=labels.to(device))\n",
        "\n",
        "      loss = output.loss\n",
        "      val_loss += loss.item()\n",
        "\n",
        "  avg_val_loss = val_loss / len(validationdata)\n",
        "\n",
        "  status.append(\n",
        "        {\n",
        "            'epoch': epoch + 1,\n",
        "            'training': round(avg_train_loss, 3),\n",
        "            'validation': round(avg_val_loss,3)\n",
        "        }\n",
        "    )\n",
        "\n",
        "  f1, acc = evaluate(model, validationdata)\n",
        "  print('F1: ', f1, 'Accuracy: ', acc)\n",
        "  if f1 > max_f1:\n",
        "    model.save_pretrained(\"model\")\n",
        "    max_f1 = f1\n",
        "    repeat = 0\n",
        "    print('Saving best model...')"
      ]
    },
    {
      "cell_type": "code",
      "execution_count": null,
      "metadata": {
        "colab": {
          "base_uri": "https://localhost:8080/",
          "height": 206
        },
        "id": "j3CmjqKWk4F8",
        "outputId": "b6f24d0c-0386-4496-d34a-332f5d5d9ed1"
      },
      "outputs": [
        {
          "output_type": "execute_result",
          "data": {
            "text/plain": [
              "       training  validation\n",
              "epoch                      \n",
              "1         0.661       0.291\n",
              "2         0.135       0.141\n",
              "3         0.063       0.102\n",
              "4         0.051       0.078"
            ],
            "text/html": [
              "\n",
              "  <div id=\"df-b7a7a757-42a0-4230-9928-12e1afd5a495\">\n",
              "    <div class=\"colab-df-container\">\n",
              "      <div>\n",
              "<style scoped>\n",
              "    .dataframe tbody tr th:only-of-type {\n",
              "        vertical-align: middle;\n",
              "    }\n",
              "\n",
              "    .dataframe tbody tr th {\n",
              "        vertical-align: top;\n",
              "    }\n",
              "\n",
              "    .dataframe thead th {\n",
              "        text-align: right;\n",
              "    }\n",
              "</style>\n",
              "<table border=\"1\" class=\"dataframe\">\n",
              "  <thead>\n",
              "    <tr style=\"text-align: right;\">\n",
              "      <th></th>\n",
              "      <th>training</th>\n",
              "      <th>validation</th>\n",
              "    </tr>\n",
              "    <tr>\n",
              "      <th>epoch</th>\n",
              "      <th></th>\n",
              "      <th></th>\n",
              "    </tr>\n",
              "  </thead>\n",
              "  <tbody>\n",
              "    <tr>\n",
              "      <th>1</th>\n",
              "      <td>0.661</td>\n",
              "      <td>0.291</td>\n",
              "    </tr>\n",
              "    <tr>\n",
              "      <th>2</th>\n",
              "      <td>0.135</td>\n",
              "      <td>0.141</td>\n",
              "    </tr>\n",
              "    <tr>\n",
              "      <th>3</th>\n",
              "      <td>0.063</td>\n",
              "      <td>0.102</td>\n",
              "    </tr>\n",
              "    <tr>\n",
              "      <th>4</th>\n",
              "      <td>0.051</td>\n",
              "      <td>0.078</td>\n",
              "    </tr>\n",
              "  </tbody>\n",
              "</table>\n",
              "</div>\n",
              "      <button class=\"colab-df-convert\" onclick=\"convertToInteractive('df-b7a7a757-42a0-4230-9928-12e1afd5a495')\"\n",
              "              title=\"Convert this dataframe to an interactive table.\"\n",
              "              style=\"display:none;\">\n",
              "        \n",
              "  <svg xmlns=\"http://www.w3.org/2000/svg\" height=\"24px\"viewBox=\"0 0 24 24\"\n",
              "       width=\"24px\">\n",
              "    <path d=\"M0 0h24v24H0V0z\" fill=\"none\"/>\n",
              "    <path d=\"M18.56 5.44l.94 2.06.94-2.06 2.06-.94-2.06-.94-.94-2.06-.94 2.06-2.06.94zm-11 1L8.5 8.5l.94-2.06 2.06-.94-2.06-.94L8.5 2.5l-.94 2.06-2.06.94zm10 10l.94 2.06.94-2.06 2.06-.94-2.06-.94-.94-2.06-.94 2.06-2.06.94z\"/><path d=\"M17.41 7.96l-1.37-1.37c-.4-.4-.92-.59-1.43-.59-.52 0-1.04.2-1.43.59L10.3 9.45l-7.72 7.72c-.78.78-.78 2.05 0 2.83L4 21.41c.39.39.9.59 1.41.59.51 0 1.02-.2 1.41-.59l7.78-7.78 2.81-2.81c.8-.78.8-2.07 0-2.86zM5.41 20L4 18.59l7.72-7.72 1.47 1.35L5.41 20z\"/>\n",
              "  </svg>\n",
              "      </button>\n",
              "      \n",
              "  <style>\n",
              "    .colab-df-container {\n",
              "      display:flex;\n",
              "      flex-wrap:wrap;\n",
              "      gap: 12px;\n",
              "    }\n",
              "\n",
              "    .colab-df-convert {\n",
              "      background-color: #E8F0FE;\n",
              "      border: none;\n",
              "      border-radius: 50%;\n",
              "      cursor: pointer;\n",
              "      display: none;\n",
              "      fill: #1967D2;\n",
              "      height: 32px;\n",
              "      padding: 0 0 0 0;\n",
              "      width: 32px;\n",
              "    }\n",
              "\n",
              "    .colab-df-convert:hover {\n",
              "      background-color: #E2EBFA;\n",
              "      box-shadow: 0px 1px 2px rgba(60, 64, 67, 0.3), 0px 1px 3px 1px rgba(60, 64, 67, 0.15);\n",
              "      fill: #174EA6;\n",
              "    }\n",
              "\n",
              "    [theme=dark] .colab-df-convert {\n",
              "      background-color: #3B4455;\n",
              "      fill: #D2E3FC;\n",
              "    }\n",
              "\n",
              "    [theme=dark] .colab-df-convert:hover {\n",
              "      background-color: #434B5C;\n",
              "      box-shadow: 0px 1px 3px 1px rgba(0, 0, 0, 0.15);\n",
              "      filter: drop-shadow(0px 1px 2px rgba(0, 0, 0, 0.3));\n",
              "      fill: #FFFFFF;\n",
              "    }\n",
              "  </style>\n",
              "\n",
              "      <script>\n",
              "        const buttonEl =\n",
              "          document.querySelector('#df-b7a7a757-42a0-4230-9928-12e1afd5a495 button.colab-df-convert');\n",
              "        buttonEl.style.display =\n",
              "          google.colab.kernel.accessAllowed ? 'block' : 'none';\n",
              "\n",
              "        async function convertToInteractive(key) {\n",
              "          const element = document.querySelector('#df-b7a7a757-42a0-4230-9928-12e1afd5a495');\n",
              "          const dataTable =\n",
              "            await google.colab.kernel.invokeFunction('convertToInteractive',\n",
              "                                                     [key], {});\n",
              "          if (!dataTable) return;\n",
              "\n",
              "          const docLinkHtml = 'Like what you see? Visit the ' +\n",
              "            '<a target=\"_blank\" href=https://colab.research.google.com/notebooks/data_table.ipynb>data table notebook</a>'\n",
              "            + ' to learn more about interactive tables.';\n",
              "          element.innerHTML = '';\n",
              "          dataTable['output_type'] = 'display_data';\n",
              "          await google.colab.output.renderOutput(dataTable, element);\n",
              "          const docLink = document.createElement('div');\n",
              "          docLink.innerHTML = docLinkHtml;\n",
              "          element.appendChild(docLink);\n",
              "        }\n",
              "      </script>\n",
              "    </div>\n",
              "  </div>\n",
              "  "
            ]
          },
          "metadata": {},
          "execution_count": 311
        }
      ],
      "source": [
        "df_stats = pd.DataFrame(data=status)\n",
        "df_status = df_stats.set_index('epoch')\n",
        "df_status.head()"
      ]
    },
    {
      "cell_type": "code",
      "execution_count": null,
      "metadata": {
        "colab": {
          "base_uri": "https://localhost:8080/",
          "height": 427
        },
        "id": "sfrtjsg9j5aw",
        "outputId": "9af1680c-82ab-4d61-b7d9-369ad891439a"
      },
      "outputs": [
        {
          "output_type": "display_data",
          "data": {
            "text/plain": [
              "<Figure size 864x432 with 1 Axes>"
            ],
            "image/png": "[encoded data removed]"
          },
          "metadata": {}
        }
      ],
      "source": [
        "# Use plot styling from seaborn.\n",
        "sns.set(style='darkgrid')\n",
        "\n",
        "# Increase the plot size and font size.\n",
        "sns.set(font_scale=1.5)\n",
        "plt.rcParams[\"figure.figsize\"] = (12,6)\n",
        "\n",
        "# Plot the learning curve.\n",
        "plt.plot(df_status['training'], 'b-o', label=\"Training\")\n",
        "plt.plot(df_status['validation'], 'g-o', label=\"Validation\")\n",
        "\n",
        "# Label the plot.\n",
        "plt.title(\"Training and Validation Loss\")\n",
        "plt.xlabel(\"Epoch\")\n",
        "plt.ylabel(\"Loss\")\n",
        "plt.legend()\n",
        "plt.xticks(list(range(1, nepochs + 1)))\n",
        "\n",
        "plt.show()"
      ]
    },
    {
      "cell_type": "code",
      "execution_count": null,
      "metadata": {
        "id": "yf2qC6PIVRS3",
        "colab": {
          "base_uri": "https://localhost:8080/"
        },
        "outputId": "46d46f07-e63d-49fb-f886-caf86a6e24bf"
      },
      "outputs": [
        {
          "output_type": "stream",
          "name": "stdout",
          "text": [
            "Progress: 0.09 31\n",
            "Progress: 0.18 63\n",
            "Progress: 0.27 95\n",
            "Progress: 0.36 127\n",
            "Progress: 0.45 159\n",
            "Progress: 0.54 191\n",
            "Progress: 0.63 223\n",
            "Progress: 0.72 255\n",
            "Progress: 0.81 287\n",
            "Progress: 0.9 319\n",
            "Progress: 0.99 351\n",
            "Acurácia: 97.00%\n",
            "Recall: 97.00%\n",
            "F1-score: 97.10%\n",
            "Precision: 97.33%\n"
          ]
        },
        {
          "output_type": "execute_result",
          "data": {
            "text/plain": [
              "(0.9709661663293732, 0.9700493305144468)"
            ]
          },
          "metadata": {},
          "execution_count": 313
        }
      ],
      "source": [
        "evaluate(model, testdata)\n"
      ]
    },
    {
      "cell_type": "code",
      "execution_count": null,
      "metadata": {
        "colab": {
          "base_uri": "https://localhost:8080/"
        },
        "id": "KMvvAwNVBcvA",
        "outputId": "25f66bbc-95df-4a5f-a695-c48fd5c254ce"
      },
      "outputs": [
        {
          "output_type": "stream",
          "name": "stdout",
          "text": [
            "Acurácia: 97.00%\n",
            "Recall: 97.00%\n",
            "F1-score: 97.10%\n",
            "Precision: 97.33%\n"
          ]
        }
      ],
      "source": [
        "predicoes = []\n",
        "Y = []\n",
        "for i in teste:\n",
        "  predicoes.append(predict(model, i['X']).tolist()[0])\n",
        "  Y.append(i['y'])\n",
        "print(classification_report(Y, predicoes))"
      ]
    },
    {
      "cell_type": "code",
      "execution_count": null,
      "metadata": {
        "colab": {
          "base_uri": "https://localhost:8080/",
          "height": 427
        },
        "id": "vSex1rFMXyjj",
        "outputId": "a5b78433-9a23-4255-b7a4-9de7182e809d"
      },
      "outputs": [
        {
          "output_type": "display_data",
          "data": {
            "text/plain": [
              "<Figure size 864x432 with 2 Axes>"
            ],
            "image/png": "[encoded data removed]"
          },
          "metadata": {}
        }
      ],
      "source": [
        "cm = confusion_matrix(Y, predicoes)\n",
        "\n",
        "ax = sns.heatmap(cm, annot=True, fmt='g');\n",
        "\n",
        "ax.set_title('Matriz de Confusão');\n",
        "ax.set_xlabel('Classificações Obtidas')\n",
        "ax.set_ylabel('Classificações Corretas');\n",
        "plt.show()"
      ]
    },
    {
      "cell_type": "markdown",
      "source": [
        "# Download"
      ],
      "metadata": {
        "id": "Skiys-8N_NCo"
      }
    },
    {
      "cell_type": "code",
      "source": [
        "!zip -r '/content/model.zip' '/content/model'"
      ],
      "metadata": {
        "id": "zvG2v6ML_Ptt",
        "colab": {
          "base_uri": "https://localhost:8080/"
        },
        "outputId": "312f1eab-5323-4b99-a5f2-164a1983e73b"
      },
      "execution_count": null,
      "outputs": [
        {
          "output_type": "stream",
          "name": "stdout",
          "text": [
            "  adding: content/model/ (stored 0%)\n",
            "  adding: content/model/pytorch_model.bin (deflated 7%)\n",
            "  adding: content/model/config.json (deflated 56%)\n"
          ]
        }
      ]
    },
    {
      "cell_type": "code",
      "source": [
        "from google.colab import files\n",
        "\n",
        "files.download(\"/content/model.zip\")"
      ],
      "metadata": {
        "id": "7POQY8CP_2eI"
      },
      "execution_count": null,
      "outputs": []
    },
    {
      "cell_type": "code",
      "source": [
        "from google.colab import drive\n",
        "drive.mount('/content/drive', force_remount=True)\n",
        "\n",
        "!cp -r \"./model.zip\" \"/content/drive/MyDrive\""
      ],
      "metadata": {
        "colab": {
          "base_uri": "https://localhost:8080/"
        },
        "id": "U_I4bBg6btSp",
        "outputId": "f00b41a6-db21-4c79-b873-90609e8e0d48"
      },
      "execution_count": null,
      "outputs": [
        {
          "output_type": "stream",
          "name": "stdout",
          "text": [
            "Mounted at /content/drive\n"
          ]
        }
      ]
    }
  ]
}