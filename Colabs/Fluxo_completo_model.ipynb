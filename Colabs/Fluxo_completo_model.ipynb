{
  "nbformat": 4,
  "nbformat_minor": 0,
  "metadata": {
    "colab": {
      "name": "Fluxo_completo_model.ipynb",
      "provenance": [],
      "collapsed_sections": [
        "aHId7bzrDD4H"
      ]
    },
    "kernelspec": {
      "name": "python3",
      "display_name": "Python 3"
    },
    "language_info": {
      "name": "python"
    },
    "widgets": {
      "application/vnd.jupyter.widget-state+json": {
        "3e92b4b1ac6341bf9356a4aa35e74921": {
          "model_module": "@jupyter-widgets/controls",
          "model_name": "HBoxModel",
          "model_module_version": "1.5.0",
          "state": {
            "_dom_classes": [],
            "_model_module": "@jupyter-widgets/controls",
            "_model_module_version": "1.5.0",
            "_model_name": "HBoxModel",
            "_view_count": null,
            "_view_module": "@jupyter-widgets/controls",
            "_view_module_version": "1.5.0",
            "_view_name": "HBoxView",
            "box_style": "",
            "children": [
              "IPY_MODEL_591f9b4f4d4e4987a29f24d41a783de9",
              "IPY_MODEL_dbff297e58114b21ae42495dd84d0fee",
              "IPY_MODEL_cd65c9e2214d4d78a13c47a81126f6b3"
            ],
            "layout": "IPY_MODEL_ae5ffebc3f80434091e8b57ade62a383"
          }
        },
        "591f9b4f4d4e4987a29f24d41a783de9": {
          "model_module": "@jupyter-widgets/controls",
          "model_name": "HTMLModel",
          "model_module_version": "1.5.0",
          "state": {
            "_dom_classes": [],
            "_model_module": "@jupyter-widgets/controls",
            "_model_module_version": "1.5.0",
            "_model_name": "HTMLModel",
            "_view_count": null,
            "_view_module": "@jupyter-widgets/controls",
            "_view_module_version": "1.5.0",
            "_view_name": "HTMLView",
            "description": "",
            "description_tooltip": null,
            "layout": "IPY_MODEL_48725d945047430a9e9f5777337763a9",
            "placeholder": "​",
            "style": "IPY_MODEL_b370b699b66c434a8aa8998028be6751",
            "value": "Downloading vocab.txt: 100%"
          }
        },
        "dbff297e58114b21ae42495dd84d0fee": {
          "model_module": "@jupyter-widgets/controls",
          "model_name": "FloatProgressModel",
          "model_module_version": "1.5.0",
          "state": {
            "_dom_classes": [],
            "_model_module": "@jupyter-widgets/controls",
            "_model_module_version": "1.5.0",
            "_model_name": "FloatProgressModel",
            "_view_count": null,
            "_view_module": "@jupyter-widgets/controls",
            "_view_module_version": "1.5.0",
            "_view_name": "ProgressView",
            "bar_style": "success",
            "description": "",
            "description_tooltip": null,
            "layout": "IPY_MODEL_686e9dec1817415dae1a7ab4c9883ce2",
            "max": 209528,
            "min": 0,
            "orientation": "horizontal",
            "style": "IPY_MODEL_972a97b3a0e24f10a689003b1ef98fda",
            "value": 209528
          }
        },
        "cd65c9e2214d4d78a13c47a81126f6b3": {
          "model_module": "@jupyter-widgets/controls",
          "model_name": "HTMLModel",
          "model_module_version": "1.5.0",
          "state": {
            "_dom_classes": [],
            "_model_module": "@jupyter-widgets/controls",
            "_model_module_version": "1.5.0",
            "_model_name": "HTMLModel",
            "_view_count": null,
            "_view_module": "@jupyter-widgets/controls",
            "_view_module_version": "1.5.0",
            "_view_name": "HTMLView",
            "description": "",
            "description_tooltip": null,
            "layout": "IPY_MODEL_a013c9f681484bfcac5f56bcb372cc26",
            "placeholder": "​",
            "style": "IPY_MODEL_0c39e211a79e486eb4f814a4c948f3d4",
            "value": " 205k/205k [00:00&lt;00:00, 697kB/s]"
          }
        },
        "ae5ffebc3f80434091e8b57ade62a383": {
          "model_module": "@jupyter-widgets/base",
          "model_name": "LayoutModel",
          "model_module_version": "1.2.0",
          "state": {
            "_model_module": "@jupyter-widgets/base",
            "_model_module_version": "1.2.0",
            "_model_name": "LayoutModel",
            "_view_count": null,
            "_view_module": "@jupyter-widgets/base",
            "_view_module_version": "1.2.0",
            "_view_name": "LayoutView",
            "align_content": null,
            "align_items": null,
            "align_self": null,
            "border": null,
            "bottom": null,
            "display": null,
            "flex": null,
            "flex_flow": null,
            "grid_area": null,
            "grid_auto_columns": null,
            "grid_auto_flow": null,
            "grid_auto_rows": null,
            "grid_column": null,
            "grid_gap": null,
            "grid_row": null,
            "grid_template_areas": null,
            "grid_template_columns": null,
            "grid_template_rows": null,
            "height": null,
            "justify_content": null,
            "justify_items": null,
            "left": null,
            "margin": null,
            "max_height": null,
            "max_width": null,
            "min_height": null,
            "min_width": null,
            "object_fit": null,
            "object_position": null,
            "order": null,
            "overflow": null,
            "overflow_x": null,
            "overflow_y": null,
            "padding": null,
            "right": null,
            "top": null,
            "visibility": null,
            "width": null
          }
        },
        "48725d945047430a9e9f5777337763a9": {
          "model_module": "@jupyter-widgets/base",
          "model_name": "LayoutModel",
          "model_module_version": "1.2.0",
          "state": {
            "_model_module": "@jupyter-widgets/base",
            "_model_module_version": "1.2.0",
            "_model_name": "LayoutModel",
            "_view_count": null,
            "_view_module": "@jupyter-widgets/base",
            "_view_module_version": "1.2.0",
            "_view_name": "LayoutView",
            "align_content": null,
            "align_items": null,
            "align_self": null,
            "border": null,
            "bottom": null,
            "display": null,
            "flex": null,
            "flex_flow": null,
            "grid_area": null,
            "grid_auto_columns": null,
            "grid_auto_flow": null,
            "grid_auto_rows": null,
            "grid_column": null,
            "grid_gap": null,
            "grid_row": null,
            "grid_template_areas": null,
            "grid_template_columns": null,
            "grid_template_rows": null,
            "height": null,
            "justify_content": null,
            "justify_items": null,
            "left": null,
            "margin": null,
            "max_height": null,
            "max_width": null,
            "min_height": null,
            "min_width": null,
            "object_fit": null,
            "object_position": null,
            "order": null,
            "overflow": null,
            "overflow_x": null,
            "overflow_y": null,
            "padding": null,
            "right": null,
            "top": null,
            "visibility": null,
            "width": null
          }
        },
        "b370b699b66c434a8aa8998028be6751": {
          "model_module": "@jupyter-widgets/controls",
          "model_name": "DescriptionStyleModel",
          "model_module_version": "1.5.0",
          "state": {
            "_model_module": "@jupyter-widgets/controls",
            "_model_module_version": "1.5.0",
            "_model_name": "DescriptionStyleModel",
            "_view_count": null,
            "_view_module": "@jupyter-widgets/base",
            "_view_module_version": "1.2.0",
            "_view_name": "StyleView",
            "description_width": ""
          }
        },
        "686e9dec1817415dae1a7ab4c9883ce2": {
          "model_module": "@jupyter-widgets/base",
          "model_name": "LayoutModel",
          "model_module_version": "1.2.0",
          "state": {
            "_model_module": "@jupyter-widgets/base",
            "_model_module_version": "1.2.0",
            "_model_name": "LayoutModel",
            "_view_count": null,
            "_view_module": "@jupyter-widgets/base",
            "_view_module_version": "1.2.0",
            "_view_name": "LayoutView",
            "align_content": null,
            "align_items": null,
            "align_self": null,
            "border": null,
            "bottom": null,
            "display": null,
            "flex": null,
            "flex_flow": null,
            "grid_area": null,
            "grid_auto_columns": null,
            "grid_auto_flow": null,
            "grid_auto_rows": null,
            "grid_column": null,
            "grid_gap": null,
            "grid_row": null,
            "grid_template_areas": null,
            "grid_template_columns": null,
            "grid_template_rows": null,
            "height": null,
            "justify_content": null,
            "justify_items": null,
            "left": null,
            "margin": null,
            "max_height": null,
            "max_width": null,
            "min_height": null,
            "min_width": null,
            "object_fit": null,
            "object_position": null,
            "order": null,
            "overflow": null,
            "overflow_x": null,
            "overflow_y": null,
            "padding": null,
            "right": null,
            "top": null,
            "visibility": null,
            "width": null
          }
        },
        "972a97b3a0e24f10a689003b1ef98fda": {
          "model_module": "@jupyter-widgets/controls",
          "model_name": "ProgressStyleModel",
          "model_module_version": "1.5.0",
          "state": {
            "_model_module": "@jupyter-widgets/controls",
            "_model_module_version": "1.5.0",
            "_model_name": "ProgressStyleModel",
            "_view_count": null,
            "_view_module": "@jupyter-widgets/base",
            "_view_module_version": "1.2.0",
            "_view_name": "StyleView",
            "bar_color": null,
            "description_width": ""
          }
        },
        "a013c9f681484bfcac5f56bcb372cc26": {
          "model_module": "@jupyter-widgets/base",
          "model_name": "LayoutModel",
          "model_module_version": "1.2.0",
          "state": {
            "_model_module": "@jupyter-widgets/base",
            "_model_module_version": "1.2.0",
            "_model_name": "LayoutModel",
            "_view_count": null,
            "_view_module": "@jupyter-widgets/base",
            "_view_module_version": "1.2.0",
            "_view_name": "LayoutView",
            "align_content": null,
            "align_items": null,
            "align_self": null,
            "border": null,
            "bottom": null,
            "display": null,
            "flex": null,
            "flex_flow": null,
            "grid_area": null,
            "grid_auto_columns": null,
            "grid_auto_flow": null,
            "grid_auto_rows": null,
            "grid_column": null,
            "grid_gap": null,
            "grid_row": null,
            "grid_template_areas": null,
            "grid_template_columns": null,
            "grid_template_rows": null,
            "height": null,
            "justify_content": null,
            "justify_items": null,
            "left": null,
            "margin": null,
            "max_height": null,
            "max_width": null,
            "min_height": null,
            "min_width": null,
            "object_fit": null,
            "object_position": null,
            "order": null,
            "overflow": null,
            "overflow_x": null,
            "overflow_y": null,
            "padding": null,
            "right": null,
            "top": null,
            "visibility": null,
            "width": null
          }
        },
        "0c39e211a79e486eb4f814a4c948f3d4": {
          "model_module": "@jupyter-widgets/controls",
          "model_name": "DescriptionStyleModel",
          "model_module_version": "1.5.0",
          "state": {
            "_model_module": "@jupyter-widgets/controls",
            "_model_module_version": "1.5.0",
            "_model_name": "DescriptionStyleModel",
            "_view_count": null,
            "_view_module": "@jupyter-widgets/base",
            "_view_module_version": "1.2.0",
            "_view_name": "StyleView",
            "description_width": ""
          }
        },
        "e4d5d12a8bff42d68f651c84cb4320d1": {
          "model_module": "@jupyter-widgets/controls",
          "model_name": "HBoxModel",
          "model_module_version": "1.5.0",
          "state": {
            "_dom_classes": [],
            "_model_module": "@jupyter-widgets/controls",
            "_model_module_version": "1.5.0",
            "_model_name": "HBoxModel",
            "_view_count": null,
            "_view_module": "@jupyter-widgets/controls",
            "_view_module_version": "1.5.0",
            "_view_name": "HBoxView",
            "box_style": "",
            "children": [
              "IPY_MODEL_38618cdb7de44f5bb155b4d683307227",
              "IPY_MODEL_0d54f041d5754d129e626a36041db7cf",
              "IPY_MODEL_7dccd7f4bf75472e84924e78a00195ff"
            ],
            "layout": "IPY_MODEL_274d2cccd4594f85b4222e0aa8d87e6c"
          }
        },
        "38618cdb7de44f5bb155b4d683307227": {
          "model_module": "@jupyter-widgets/controls",
          "model_name": "HTMLModel",
          "model_module_version": "1.5.0",
          "state": {
            "_dom_classes": [],
            "_model_module": "@jupyter-widgets/controls",
            "_model_module_version": "1.5.0",
            "_model_name": "HTMLModel",
            "_view_count": null,
            "_view_module": "@jupyter-widgets/controls",
            "_view_module_version": "1.5.0",
            "_view_name": "HTMLView",
            "description": "",
            "description_tooltip": null,
            "layout": "IPY_MODEL_086d9334b06a436cb6e90491874360fd",
            "placeholder": "​",
            "style": "IPY_MODEL_3b893ca91f694a14a9c74e11e49f3ad1",
            "value": "Downloading added_tokens.json: 100%"
          }
        },
        "0d54f041d5754d129e626a36041db7cf": {
          "model_module": "@jupyter-widgets/controls",
          "model_name": "FloatProgressModel",
          "model_module_version": "1.5.0",
          "state": {
            "_dom_classes": [],
            "_model_module": "@jupyter-widgets/controls",
            "_model_module_version": "1.5.0",
            "_model_name": "FloatProgressModel",
            "_view_count": null,
            "_view_module": "@jupyter-widgets/controls",
            "_view_module_version": "1.5.0",
            "_view_name": "ProgressView",
            "bar_style": "success",
            "description": "",
            "description_tooltip": null,
            "layout": "IPY_MODEL_41991532c870457c850d26b56d67ddf7",
            "max": 2,
            "min": 0,
            "orientation": "horizontal",
            "style": "IPY_MODEL_1e25f27365514d96a2e5fa00009c38fd",
            "value": 2
          }
        },
        "7dccd7f4bf75472e84924e78a00195ff": {
          "model_module": "@jupyter-widgets/controls",
          "model_name": "HTMLModel",
          "model_module_version": "1.5.0",
          "state": {
            "_dom_classes": [],
            "_model_module": "@jupyter-widgets/controls",
            "_model_module_version": "1.5.0",
            "_model_name": "HTMLModel",
            "_view_count": null,
            "_view_module": "@jupyter-widgets/controls",
            "_view_module_version": "1.5.0",
            "_view_name": "HTMLView",
            "description": "",
            "description_tooltip": null,
            "layout": "IPY_MODEL_16f3ee048eb9487d92af1e0175a5f514",
            "placeholder": "​",
            "style": "IPY_MODEL_3557328480c243588858bbcbe4828934",
            "value": " 2.00/2.00 [00:00&lt;00:00, 50.2B/s]"
          }
        },
        "274d2cccd4594f85b4222e0aa8d87e6c": {
          "model_module": "@jupyter-widgets/base",
          "model_name": "LayoutModel",
          "model_module_version": "1.2.0",
          "state": {
            "_model_module": "@jupyter-widgets/base",
            "_model_module_version": "1.2.0",
            "_model_name": "LayoutModel",
            "_view_count": null,
            "_view_module": "@jupyter-widgets/base",
            "_view_module_version": "1.2.0",
            "_view_name": "LayoutView",
            "align_content": null,
            "align_items": null,
            "align_self": null,
            "border": null,
            "bottom": null,
            "display": null,
            "flex": null,
            "flex_flow": null,
            "grid_area": null,
            "grid_auto_columns": null,
            "grid_auto_flow": null,
            "grid_auto_rows": null,
            "grid_column": null,
            "grid_gap": null,
            "grid_row": null,
            "grid_template_areas": null,
            "grid_template_columns": null,
            "grid_template_rows": null,
            "height": null,
            "justify_content": null,
            "justify_items": null,
            "left": null,
            "margin": null,
            "max_height": null,
            "max_width": null,
            "min_height": null,
            "min_width": null,
            "object_fit": null,
            "object_position": null,
            "order": null,
            "overflow": null,
            "overflow_x": null,
            "overflow_y": null,
            "padding": null,
            "right": null,
            "top": null,
            "visibility": null,
            "width": null
          }
        },
        "086d9334b06a436cb6e90491874360fd": {
          "model_module": "@jupyter-widgets/base",
          "model_name": "LayoutModel",
          "model_module_version": "1.2.0",
          "state": {
            "_model_module": "@jupyter-widgets/base",
            "_model_module_version": "1.2.0",
            "_model_name": "LayoutModel",
            "_view_count": null,
            "_view_module": "@jupyter-widgets/base",
            "_view_module_version": "1.2.0",
            "_view_name": "LayoutView",
            "align_content": null,
            "align_items": null,
            "align_self": null,
            "border": null,
            "bottom": null,
            "display": null,
            "flex": null,
            "flex_flow": null,
            "grid_area": null,
            "grid_auto_columns": null,
            "grid_auto_flow": null,
            "grid_auto_rows": null,
            "grid_column": null,
            "grid_gap": null,
            "grid_row": null,
            "grid_template_areas": null,
            "grid_template_columns": null,
            "grid_template_rows": null,
            "height": null,
            "justify_content": null,
            "justify_items": null,
            "left": null,
            "margin": null,
            "max_height": null,
            "max_width": null,
            "min_height": null,
            "min_width": null,
            "object_fit": null,
            "object_position": null,
            "order": null,
            "overflow": null,
            "overflow_x": null,
            "overflow_y": null,
            "padding": null,
            "right": null,
            "top": null,
            "visibility": null,
            "width": null
          }
        },
        "3b893ca91f694a14a9c74e11e49f3ad1": {
          "model_module": "@jupyter-widgets/controls",
          "model_name": "DescriptionStyleModel",
          "model_module_version": "1.5.0",
          "state": {
            "_model_module": "@jupyter-widgets/controls",
            "_model_module_version": "1.5.0",
            "_model_name": "DescriptionStyleModel",
            "_view_count": null,
            "_view_module": "@jupyter-widgets/base",
            "_view_module_version": "1.2.0",
            "_view_name": "StyleView",
            "description_width": ""
          }
        },
        "41991532c870457c850d26b56d67ddf7": {
          "model_module": "@jupyter-widgets/base",
          "model_name": "LayoutModel",
          "model_module_version": "1.2.0",
          "state": {
            "_model_module": "@jupyter-widgets/base",
            "_model_module_version": "1.2.0",
            "_model_name": "LayoutModel",
            "_view_count": null,
            "_view_module": "@jupyter-widgets/base",
            "_view_module_version": "1.2.0",
            "_view_name": "LayoutView",
            "align_content": null,
            "align_items": null,
            "align_self": null,
            "border": null,
            "bottom": null,
            "display": null,
            "flex": null,
            "flex_flow": null,
            "grid_area": null,
            "grid_auto_columns": null,
            "grid_auto_flow": null,
            "grid_auto_rows": null,
            "grid_column": null,
            "grid_gap": null,
            "grid_row": null,
            "grid_template_areas": null,
            "grid_template_columns": null,
            "grid_template_rows": null,
            "height": null,
            "justify_content": null,
            "justify_items": null,
            "left": null,
            "margin": null,
            "max_height": null,
            "max_width": null,
            "min_height": null,
            "min_width": null,
            "object_fit": null,
            "object_position": null,
            "order": null,
            "overflow": null,
            "overflow_x": null,
            "overflow_y": null,
            "padding": null,
            "right": null,
            "top": null,
            "visibility": null,
            "width": null
          }
        },
        "1e25f27365514d96a2e5fa00009c38fd": {
          "model_module": "@jupyter-widgets/controls",
          "model_name": "ProgressStyleModel",
          "model_module_version": "1.5.0",
          "state": {
            "_model_module": "@jupyter-widgets/controls",
            "_model_module_version": "1.5.0",
            "_model_name": "ProgressStyleModel",
            "_view_count": null,
            "_view_module": "@jupyter-widgets/base",
            "_view_module_version": "1.2.0",
            "_view_name": "StyleView",
            "bar_color": null,
            "description_width": ""
          }
        },
        "16f3ee048eb9487d92af1e0175a5f514": {
          "model_module": "@jupyter-widgets/base",
          "model_name": "LayoutModel",
          "model_module_version": "1.2.0",
          "state": {
            "_model_module": "@jupyter-widgets/base",
            "_model_module_version": "1.2.0",
            "_model_name": "LayoutModel",
            "_view_count": null,
            "_view_module": "@jupyter-widgets/base",
            "_view_module_version": "1.2.0",
            "_view_name": "LayoutView",
            "align_content": null,
            "align_items": null,
            "align_self": null,
            "border": null,
            "bottom": null,
            "display": null,
            "flex": null,
            "flex_flow": null,
            "grid_area": null,
            "grid_auto_columns": null,
            "grid_auto_flow": null,
            "grid_auto_rows": null,
            "grid_column": null,
            "grid_gap": null,
            "grid_row": null,
            "grid_template_areas": null,
            "grid_template_columns": null,
            "grid_template_rows": null,
            "height": null,
            "justify_content": null,
            "justify_items": null,
            "left": null,
            "margin": null,
            "max_height": null,
            "max_width": null,
            "min_height": null,
            "min_width": null,
            "object_fit": null,
            "object_position": null,
            "order": null,
            "overflow": null,
            "overflow_x": null,
            "overflow_y": null,
            "padding": null,
            "right": null,
            "top": null,
            "visibility": null,
            "width": null
          }
        },
        "3557328480c243588858bbcbe4828934": {
          "model_module": "@jupyter-widgets/controls",
          "model_name": "DescriptionStyleModel",
          "model_module_version": "1.5.0",
          "state": {
            "_model_module": "@jupyter-widgets/controls",
            "_model_module_version": "1.5.0",
            "_model_name": "DescriptionStyleModel",
            "_view_count": null,
            "_view_module": "@jupyter-widgets/base",
            "_view_module_version": "1.2.0",
            "_view_name": "StyleView",
            "description_width": ""
          }
        },
        "0f97e08272ee4e849452e99dba157ad9": {
          "model_module": "@jupyter-widgets/controls",
          "model_name": "HBoxModel",
          "model_module_version": "1.5.0",
          "state": {
            "_dom_classes": [],
            "_model_module": "@jupyter-widgets/controls",
            "_model_module_version": "1.5.0",
            "_model_name": "HBoxModel",
            "_view_count": null,
            "_view_module": "@jupyter-widgets/controls",
            "_view_module_version": "1.5.0",
            "_view_name": "HBoxView",
            "box_style": "",
            "children": [
              "IPY_MODEL_440b4475ca764390ad241779103da258",
              "IPY_MODEL_ad5b6af23b124e398fff229966b20e9d",
              "IPY_MODEL_cc519240ce5e42f99e13c17f20c6928b"
            ],
            "layout": "IPY_MODEL_4ba15deb5166474dad6731b5b392080e"
          }
        },
        "440b4475ca764390ad241779103da258": {
          "model_module": "@jupyter-widgets/controls",
          "model_name": "HTMLModel",
          "model_module_version": "1.5.0",
          "state": {
            "_dom_classes": [],
            "_model_module": "@jupyter-widgets/controls",
            "_model_module_version": "1.5.0",
            "_model_name": "HTMLModel",
            "_view_count": null,
            "_view_module": "@jupyter-widgets/controls",
            "_view_module_version": "1.5.0",
            "_view_name": "HTMLView",
            "description": "",
            "description_tooltip": null,
            "layout": "IPY_MODEL_ad864a2199b54905bda848ad20748de0",
            "placeholder": "​",
            "style": "IPY_MODEL_1afe71c4d7644490975b2d298f8340dc",
            "value": "Downloading special_tokens_map.json: 100%"
          }
        },
        "ad5b6af23b124e398fff229966b20e9d": {
          "model_module": "@jupyter-widgets/controls",
          "model_name": "FloatProgressModel",
          "model_module_version": "1.5.0",
          "state": {
            "_dom_classes": [],
            "_model_module": "@jupyter-widgets/controls",
            "_model_module_version": "1.5.0",
            "_model_name": "FloatProgressModel",
            "_view_count": null,
            "_view_module": "@jupyter-widgets/controls",
            "_view_module_version": "1.5.0",
            "_view_name": "ProgressView",
            "bar_style": "success",
            "description": "",
            "description_tooltip": null,
            "layout": "IPY_MODEL_eaf8ea12940e4fc6bb92ae28890837b3",
            "max": 112,
            "min": 0,
            "orientation": "horizontal",
            "style": "IPY_MODEL_53e02838d71d421e85799b7a0ab5cf57",
            "value": 112
          }
        },
        "cc519240ce5e42f99e13c17f20c6928b": {
          "model_module": "@jupyter-widgets/controls",
          "model_name": "HTMLModel",
          "model_module_version": "1.5.0",
          "state": {
            "_dom_classes": [],
            "_model_module": "@jupyter-widgets/controls",
            "_model_module_version": "1.5.0",
            "_model_name": "HTMLModel",
            "_view_count": null,
            "_view_module": "@jupyter-widgets/controls",
            "_view_module_version": "1.5.0",
            "_view_name": "HTMLView",
            "description": "",
            "description_tooltip": null,
            "layout": "IPY_MODEL_644b80c369d8493d967f7eb4b09c4ffe",
            "placeholder": "​",
            "style": "IPY_MODEL_4d76ed5f3b644c089725fa1d33441878",
            "value": " 112/112 [00:00&lt;00:00, 2.87kB/s]"
          }
        },
        "4ba15deb5166474dad6731b5b392080e": {
          "model_module": "@jupyter-widgets/base",
          "model_name": "LayoutModel",
          "model_module_version": "1.2.0",
          "state": {
            "_model_module": "@jupyter-widgets/base",
            "_model_module_version": "1.2.0",
            "_model_name": "LayoutModel",
            "_view_count": null,
            "_view_module": "@jupyter-widgets/base",
            "_view_module_version": "1.2.0",
            "_view_name": "LayoutView",
            "align_content": null,
            "align_items": null,
            "align_self": null,
            "border": null,
            "bottom": null,
            "display": null,
            "flex": null,
            "flex_flow": null,
            "grid_area": null,
            "grid_auto_columns": null,
            "grid_auto_flow": null,
            "grid_auto_rows": null,
            "grid_column": null,
            "grid_gap": null,
            "grid_row": null,
            "grid_template_areas": null,
            "grid_template_columns": null,
            "grid_template_rows": null,
            "height": null,
            "justify_content": null,
            "justify_items": null,
            "left": null,
            "margin": null,
            "max_height": null,
            "max_width": null,
            "min_height": null,
            "min_width": null,
            "object_fit": null,
            "object_position": null,
            "order": null,
            "overflow": null,
            "overflow_x": null,
            "overflow_y": null,
            "padding": null,
            "right": null,
            "top": null,
            "visibility": null,
            "width": null
          }
        },
        "ad864a2199b54905bda848ad20748de0": {
          "model_module": "@jupyter-widgets/base",
          "model_name": "LayoutModel",
          "model_module_version": "1.2.0",
          "state": {
            "_model_module": "@jupyter-widgets/base",
            "_model_module_version": "1.2.0",
            "_model_name": "LayoutModel",
            "_view_count": null,
            "_view_module": "@jupyter-widgets/base",
            "_view_module_version": "1.2.0",
            "_view_name": "LayoutView",
            "align_content": null,
            "align_items": null,
            "align_self": null,
            "border": null,
            "bottom": null,
            "display": null,
            "flex": null,
            "flex_flow": null,
            "grid_area": null,
            "grid_auto_columns": null,
            "grid_auto_flow": null,
            "grid_auto_rows": null,
            "grid_column": null,
            "grid_gap": null,
            "grid_row": null,
            "grid_template_areas": null,
            "grid_template_columns": null,
            "grid_template_rows": null,
            "height": null,
            "justify_content": null,
            "justify_items": null,
            "left": null,
            "margin": null,
            "max_height": null,
            "max_width": null,
            "min_height": null,
            "min_width": null,
            "object_fit": null,
            "object_position": null,
            "order": null,
            "overflow": null,
            "overflow_x": null,
            "overflow_y": null,
            "padding": null,
            "right": null,
            "top": null,
            "visibility": null,
            "width": null
          }
        },
        "1afe71c4d7644490975b2d298f8340dc": {
          "model_module": "@jupyter-widgets/controls",
          "model_name": "DescriptionStyleModel",
          "model_module_version": "1.5.0",
          "state": {
            "_model_module": "@jupyter-widgets/controls",
            "_model_module_version": "1.5.0",
            "_model_name": "DescriptionStyleModel",
            "_view_count": null,
            "_view_module": "@jupyter-widgets/base",
            "_view_module_version": "1.2.0",
            "_view_name": "StyleView",
            "description_width": ""
          }
        },
        "eaf8ea12940e4fc6bb92ae28890837b3": {
          "model_module": "@jupyter-widgets/base",
          "model_name": "LayoutModel",
          "model_module_version": "1.2.0",
          "state": {
            "_model_module": "@jupyter-widgets/base",
            "_model_module_version": "1.2.0",
            "_model_name": "LayoutModel",
            "_view_count": null,
            "_view_module": "@jupyter-widgets/base",
            "_view_module_version": "1.2.0",
            "_view_name": "LayoutView",
            "align_content": null,
            "align_items": null,
            "align_self": null,
            "border": null,
            "bottom": null,
            "display": null,
            "flex": null,
            "flex_flow": null,
            "grid_area": null,
            "grid_auto_columns": null,
            "grid_auto_flow": null,
            "grid_auto_rows": null,
            "grid_column": null,
            "grid_gap": null,
            "grid_row": null,
            "grid_template_areas": null,
            "grid_template_columns": null,
            "grid_template_rows": null,
            "height": null,
            "justify_content": null,
            "justify_items": null,
            "left": null,
            "margin": null,
            "max_height": null,
            "max_width": null,
            "min_height": null,
            "min_width": null,
            "object_fit": null,
            "object_position": null,
            "order": null,
            "overflow": null,
            "overflow_x": null,
            "overflow_y": null,
            "padding": null,
            "right": null,
            "top": null,
            "visibility": null,
            "width": null
          }
        },
        "53e02838d71d421e85799b7a0ab5cf57": {
          "model_module": "@jupyter-widgets/controls",
          "model_name": "ProgressStyleModel",
          "model_module_version": "1.5.0",
          "state": {
            "_model_module": "@jupyter-widgets/controls",
            "_model_module_version": "1.5.0",
            "_model_name": "ProgressStyleModel",
            "_view_count": null,
            "_view_module": "@jupyter-widgets/base",
            "_view_module_version": "1.2.0",
            "_view_name": "StyleView",
            "bar_color": null,
            "description_width": ""
          }
        },
        "644b80c369d8493d967f7eb4b09c4ffe": {
          "model_module": "@jupyter-widgets/base",
          "model_name": "LayoutModel",
          "model_module_version": "1.2.0",
          "state": {
            "_model_module": "@jupyter-widgets/base",
            "_model_module_version": "1.2.0",
            "_model_name": "LayoutModel",
            "_view_count": null,
            "_view_module": "@jupyter-widgets/base",
            "_view_module_version": "1.2.0",
            "_view_name": "LayoutView",
            "align_content": null,
            "align_items": null,
            "align_self": null,
            "border": null,
            "bottom": null,
            "display": null,
            "flex": null,
            "flex_flow": null,
            "grid_area": null,
            "grid_auto_columns": null,
            "grid_auto_flow": null,
            "grid_auto_rows": null,
            "grid_column": null,
            "grid_gap": null,
            "grid_row": null,
            "grid_template_areas": null,
            "grid_template_columns": null,
            "grid_template_rows": null,
            "height": null,
            "justify_content": null,
            "justify_items": null,
            "left": null,
            "margin": null,
            "max_height": null,
            "max_width": null,
            "min_height": null,
            "min_width": null,
            "object_fit": null,
            "object_position": null,
            "order": null,
            "overflow": null,
            "overflow_x": null,
            "overflow_y": null,
            "padding": null,
            "right": null,
            "top": null,
            "visibility": null,
            "width": null
          }
        },
        "4d76ed5f3b644c089725fa1d33441878": {
          "model_module": "@jupyter-widgets/controls",
          "model_name": "DescriptionStyleModel",
          "model_module_version": "1.5.0",
          "state": {
            "_model_module": "@jupyter-widgets/controls",
            "_model_module_version": "1.5.0",
            "_model_name": "DescriptionStyleModel",
            "_view_count": null,
            "_view_module": "@jupyter-widgets/base",
            "_view_module_version": "1.2.0",
            "_view_name": "StyleView",
            "description_width": ""
          }
        },
        "f24dbf4d78aa4572bf273def01937254": {
          "model_module": "@jupyter-widgets/controls",
          "model_name": "HBoxModel",
          "model_module_version": "1.5.0",
          "state": {
            "_dom_classes": [],
            "_model_module": "@jupyter-widgets/controls",
            "_model_module_version": "1.5.0",
            "_model_name": "HBoxModel",
            "_view_count": null,
            "_view_module": "@jupyter-widgets/controls",
            "_view_module_version": "1.5.0",
            "_view_name": "HBoxView",
            "box_style": "",
            "children": [
              "IPY_MODEL_90c7b105b52b487fb2f1d965e9b420e6",
              "IPY_MODEL_3c504eb106004412a6ea635d2a55e8d6",
              "IPY_MODEL_e9dcc585ecc042e79c8816044002aa20"
            ],
            "layout": "IPY_MODEL_ebe901ed4dfd481f87a533cd664a64a2"
          }
        },
        "90c7b105b52b487fb2f1d965e9b420e6": {
          "model_module": "@jupyter-widgets/controls",
          "model_name": "HTMLModel",
          "model_module_version": "1.5.0",
          "state": {
            "_dom_classes": [],
            "_model_module": "@jupyter-widgets/controls",
            "_model_module_version": "1.5.0",
            "_model_name": "HTMLModel",
            "_view_count": null,
            "_view_module": "@jupyter-widgets/controls",
            "_view_module_version": "1.5.0",
            "_view_name": "HTMLView",
            "description": "",
            "description_tooltip": null,
            "layout": "IPY_MODEL_dd88e3c0995c4f199602808f361a7125",
            "placeholder": "​",
            "style": "IPY_MODEL_6ecc4900951d407dbbd2aeeb20b109af",
            "value": "Downloading tokenizer_config.json: 100%"
          }
        },
        "3c504eb106004412a6ea635d2a55e8d6": {
          "model_module": "@jupyter-widgets/controls",
          "model_name": "FloatProgressModel",
          "model_module_version": "1.5.0",
          "state": {
            "_dom_classes": [],
            "_model_module": "@jupyter-widgets/controls",
            "_model_module_version": "1.5.0",
            "_model_name": "FloatProgressModel",
            "_view_count": null,
            "_view_module": "@jupyter-widgets/controls",
            "_view_module_version": "1.5.0",
            "_view_name": "ProgressView",
            "bar_style": "success",
            "description": "",
            "description_tooltip": null,
            "layout": "IPY_MODEL_84f8f4df53e947f4af65d2bcd793f14d",
            "max": 155,
            "min": 0,
            "orientation": "horizontal",
            "style": "IPY_MODEL_e80a9a966dba4c56ada2c5e60ec01750",
            "value": 155
          }
        },
        "e9dcc585ecc042e79c8816044002aa20": {
          "model_module": "@jupyter-widgets/controls",
          "model_name": "HTMLModel",
          "model_module_version": "1.5.0",
          "state": {
            "_dom_classes": [],
            "_model_module": "@jupyter-widgets/controls",
            "_model_module_version": "1.5.0",
            "_model_name": "HTMLModel",
            "_view_count": null,
            "_view_module": "@jupyter-widgets/controls",
            "_view_module_version": "1.5.0",
            "_view_name": "HTMLView",
            "description": "",
            "description_tooltip": null,
            "layout": "IPY_MODEL_af7cf44965f8455294ac3ac48e311053",
            "placeholder": "​",
            "style": "IPY_MODEL_699e2dda7c9b46ecba7515a5ec4414bb",
            "value": " 155/155 [00:00&lt;00:00, 4.06kB/s]"
          }
        },
        "ebe901ed4dfd481f87a533cd664a64a2": {
          "model_module": "@jupyter-widgets/base",
          "model_name": "LayoutModel",
          "model_module_version": "1.2.0",
          "state": {
            "_model_module": "@jupyter-widgets/base",
            "_model_module_version": "1.2.0",
            "_model_name": "LayoutModel",
            "_view_count": null,
            "_view_module": "@jupyter-widgets/base",
            "_view_module_version": "1.2.0",
            "_view_name": "LayoutView",
            "align_content": null,
            "align_items": null,
            "align_self": null,
            "border": null,
            "bottom": null,
            "display": null,
            "flex": null,
            "flex_flow": null,
            "grid_area": null,
            "grid_auto_columns": null,
            "grid_auto_flow": null,
            "grid_auto_rows": null,
            "grid_column": null,
            "grid_gap": null,
            "grid_row": null,
            "grid_template_areas": null,
            "grid_template_columns": null,
            "grid_template_rows": null,
            "height": null,
            "justify_content": null,
            "justify_items": null,
            "left": null,
            "margin": null,
            "max_height": null,
            "max_width": null,
            "min_height": null,
            "min_width": null,
            "object_fit": null,
            "object_position": null,
            "order": null,
            "overflow": null,
            "overflow_x": null,
            "overflow_y": null,
            "padding": null,
            "right": null,
            "top": null,
            "visibility": null,
            "width": null
          }
        },
        "dd88e3c0995c4f199602808f361a7125": {
          "model_module": "@jupyter-widgets/base",
          "model_name": "LayoutModel",
          "model_module_version": "1.2.0",
          "state": {
            "_model_module": "@jupyter-widgets/base",
            "_model_module_version": "1.2.0",
            "_model_name": "LayoutModel",
            "_view_count": null,
            "_view_module": "@jupyter-widgets/base",
            "_view_module_version": "1.2.0",
            "_view_name": "LayoutView",
            "align_content": null,
            "align_items": null,
            "align_self": null,
            "border": null,
            "bottom": null,
            "display": null,
            "flex": null,
            "flex_flow": null,
            "grid_area": null,
            "grid_auto_columns": null,
            "grid_auto_flow": null,
            "grid_auto_rows": null,
            "grid_column": null,
            "grid_gap": null,
            "grid_row": null,
            "grid_template_areas": null,
            "grid_template_columns": null,
            "grid_template_rows": null,
            "height": null,
            "justify_content": null,
            "justify_items": null,
            "left": null,
            "margin": null,
            "max_height": null,
            "max_width": null,
            "min_height": null,
            "min_width": null,
            "object_fit": null,
            "object_position": null,
            "order": null,
            "overflow": null,
            "overflow_x": null,
            "overflow_y": null,
            "padding": null,
            "right": null,
            "top": null,
            "visibility": null,
            "width": null
          }
        },
        "6ecc4900951d407dbbd2aeeb20b109af": {
          "model_module": "@jupyter-widgets/controls",
          "model_name": "DescriptionStyleModel",
          "model_module_version": "1.5.0",
          "state": {
            "_model_module": "@jupyter-widgets/controls",
            "_model_module_version": "1.5.0",
            "_model_name": "DescriptionStyleModel",
            "_view_count": null,
            "_view_module": "@jupyter-widgets/base",
            "_view_module_version": "1.2.0",
            "_view_name": "StyleView",
            "description_width": ""
          }
        },
        "84f8f4df53e947f4af65d2bcd793f14d": {
          "model_module": "@jupyter-widgets/base",
          "model_name": "LayoutModel",
          "model_module_version": "1.2.0",
          "state": {
            "_model_module": "@jupyter-widgets/base",
            "_model_module_version": "1.2.0",
            "_model_name": "LayoutModel",
            "_view_count": null,
            "_view_module": "@jupyter-widgets/base",
            "_view_module_version": "1.2.0",
            "_view_name": "LayoutView",
            "align_content": null,
            "align_items": null,
            "align_self": null,
            "border": null,
            "bottom": null,
            "display": null,
            "flex": null,
            "flex_flow": null,
            "grid_area": null,
            "grid_auto_columns": null,
            "grid_auto_flow": null,
            "grid_auto_rows": null,
            "grid_column": null,
            "grid_gap": null,
            "grid_row": null,
            "grid_template_areas": null,
            "grid_template_columns": null,
            "grid_template_rows": null,
            "height": null,
            "justify_content": null,
            "justify_items": null,
            "left": null,
            "margin": null,
            "max_height": null,
            "max_width": null,
            "min_height": null,
            "min_width": null,
            "object_fit": null,
            "object_position": null,
            "order": null,
            "overflow": null,
            "overflow_x": null,
            "overflow_y": null,
            "padding": null,
            "right": null,
            "top": null,
            "visibility": null,
            "width": null
          }
        },
        "e80a9a966dba4c56ada2c5e60ec01750": {
          "model_module": "@jupyter-widgets/controls",
          "model_name": "ProgressStyleModel",
          "model_module_version": "1.5.0",
          "state": {
            "_model_module": "@jupyter-widgets/controls",
            "_model_module_version": "1.5.0",
            "_model_name": "ProgressStyleModel",
            "_view_count": null,
            "_view_module": "@jupyter-widgets/base",
            "_view_module_version": "1.2.0",
            "_view_name": "StyleView",
            "bar_color": null,
            "description_width": ""
          }
        },
        "af7cf44965f8455294ac3ac48e311053": {
          "model_module": "@jupyter-widgets/base",
          "model_name": "LayoutModel",
          "model_module_version": "1.2.0",
          "state": {
            "_model_module": "@jupyter-widgets/base",
            "_model_module_version": "1.2.0",
            "_model_name": "LayoutModel",
            "_view_count": null,
            "_view_module": "@jupyter-widgets/base",
            "_view_module_version": "1.2.0",
            "_view_name": "LayoutView",
            "align_content": null,
            "align_items": null,
            "align_self": null,
            "border": null,
            "bottom": null,
            "display": null,
            "flex": null,
            "flex_flow": null,
            "grid_area": null,
            "grid_auto_columns": null,
            "grid_auto_flow": null,
            "grid_auto_rows": null,
            "grid_column": null,
            "grid_gap": null,
            "grid_row": null,
            "grid_template_areas": null,
            "grid_template_columns": null,
            "grid_template_rows": null,
            "height": null,
            "justify_content": null,
            "justify_items": null,
            "left": null,
            "margin": null,
            "max_height": null,
            "max_width": null,
            "min_height": null,
            "min_width": null,
            "object_fit": null,
            "object_position": null,
            "order": null,
            "overflow": null,
            "overflow_x": null,
            "overflow_y": null,
            "padding": null,
            "right": null,
            "top": null,
            "visibility": null,
            "width": null
          }
        },
        "699e2dda7c9b46ecba7515a5ec4414bb": {
          "model_module": "@jupyter-widgets/controls",
          "model_name": "DescriptionStyleModel",
          "model_module_version": "1.5.0",
          "state": {
            "_model_module": "@jupyter-widgets/controls",
            "_model_module_version": "1.5.0",
            "_model_name": "DescriptionStyleModel",
            "_view_count": null,
            "_view_module": "@jupyter-widgets/base",
            "_view_module_version": "1.2.0",
            "_view_name": "StyleView",
            "description_width": ""
          }
        },
        "05a2bd9e5c5e40d8863cd2769499f699": {
          "model_module": "@jupyter-widgets/controls",
          "model_name": "HBoxModel",
          "model_module_version": "1.5.0",
          "state": {
            "_dom_classes": [],
            "_model_module": "@jupyter-widgets/controls",
            "_model_module_version": "1.5.0",
            "_model_name": "HBoxModel",
            "_view_count": null,
            "_view_module": "@jupyter-widgets/controls",
            "_view_module_version": "1.5.0",
            "_view_name": "HBoxView",
            "box_style": "",
            "children": [
              "IPY_MODEL_8753451727834765bad8fda4cf7ebbc9",
              "IPY_MODEL_9fc3eb2a4a7d43ce8e07f75340a84058",
              "IPY_MODEL_5be09ec4660f4579bfa25f23c0cc535a"
            ],
            "layout": "IPY_MODEL_ae4f4649c267497d81f79deb503e9e3f"
          }
        },
        "8753451727834765bad8fda4cf7ebbc9": {
          "model_module": "@jupyter-widgets/controls",
          "model_name": "HTMLModel",
          "model_module_version": "1.5.0",
          "state": {
            "_dom_classes": [],
            "_model_module": "@jupyter-widgets/controls",
            "_model_module_version": "1.5.0",
            "_model_name": "HTMLModel",
            "_view_count": null,
            "_view_module": "@jupyter-widgets/controls",
            "_view_module_version": "1.5.0",
            "_view_name": "HTMLView",
            "description": "",
            "description_tooltip": null,
            "layout": "IPY_MODEL_43bec19bd5a341349c1a7c3908fe1c51",
            "placeholder": "​",
            "style": "IPY_MODEL_65c22498f0eb4d629f3b10f115864b11",
            "value": "Downloading config.json: 100%"
          }
        },
        "9fc3eb2a4a7d43ce8e07f75340a84058": {
          "model_module": "@jupyter-widgets/controls",
          "model_name": "FloatProgressModel",
          "model_module_version": "1.5.0",
          "state": {
            "_dom_classes": [],
            "_model_module": "@jupyter-widgets/controls",
            "_model_module_version": "1.5.0",
            "_model_name": "FloatProgressModel",
            "_view_count": null,
            "_view_module": "@jupyter-widgets/controls",
            "_view_module_version": "1.5.0",
            "_view_name": "ProgressView",
            "bar_style": "success",
            "description": "",
            "description_tooltip": null,
            "layout": "IPY_MODEL_cbb6cd990d3940f0834b67a8994fba06",
            "max": 648,
            "min": 0,
            "orientation": "horizontal",
            "style": "IPY_MODEL_1961179d4aa94c44bcc390775db417df",
            "value": 648
          }
        },
        "5be09ec4660f4579bfa25f23c0cc535a": {
          "model_module": "@jupyter-widgets/controls",
          "model_name": "HTMLModel",
          "model_module_version": "1.5.0",
          "state": {
            "_dom_classes": [],
            "_model_module": "@jupyter-widgets/controls",
            "_model_module_version": "1.5.0",
            "_model_name": "HTMLModel",
            "_view_count": null,
            "_view_module": "@jupyter-widgets/controls",
            "_view_module_version": "1.5.0",
            "_view_name": "HTMLView",
            "description": "",
            "description_tooltip": null,
            "layout": "IPY_MODEL_eac62496c5f84254b80690cc579ce41f",
            "placeholder": "​",
            "style": "IPY_MODEL_ad27bbf3dcc1496eb172cadcca8a05a7",
            "value": " 648/648 [00:00&lt;00:00, 11.7kB/s]"
          }
        },
        "ae4f4649c267497d81f79deb503e9e3f": {
          "model_module": "@jupyter-widgets/base",
          "model_name": "LayoutModel",
          "model_module_version": "1.2.0",
          "state": {
            "_model_module": "@jupyter-widgets/base",
            "_model_module_version": "1.2.0",
            "_model_name": "LayoutModel",
            "_view_count": null,
            "_view_module": "@jupyter-widgets/base",
            "_view_module_version": "1.2.0",
            "_view_name": "LayoutView",
            "align_content": null,
            "align_items": null,
            "align_self": null,
            "border": null,
            "bottom": null,
            "display": null,
            "flex": null,
            "flex_flow": null,
            "grid_area": null,
            "grid_auto_columns": null,
            "grid_auto_flow": null,
            "grid_auto_rows": null,
            "grid_column": null,
            "grid_gap": null,
            "grid_row": null,
            "grid_template_areas": null,
            "grid_template_columns": null,
            "grid_template_rows": null,
            "height": null,
            "justify_content": null,
            "justify_items": null,
            "left": null,
            "margin": null,
            "max_height": null,
            "max_width": null,
            "min_height": null,
            "min_width": null,
            "object_fit": null,
            "object_position": null,
            "order": null,
            "overflow": null,
            "overflow_x": null,
            "overflow_y": null,
            "padding": null,
            "right": null,
            "top": null,
            "visibility": null,
            "width": null
          }
        },
        "43bec19bd5a341349c1a7c3908fe1c51": {
          "model_module": "@jupyter-widgets/base",
          "model_name": "LayoutModel",
          "model_module_version": "1.2.0",
          "state": {
            "_model_module": "@jupyter-widgets/base",
            "_model_module_version": "1.2.0",
            "_model_name": "LayoutModel",
            "_view_count": null,
            "_view_module": "@jupyter-widgets/base",
            "_view_module_version": "1.2.0",
            "_view_name": "LayoutView",
            "align_content": null,
            "align_items": null,
            "align_self": null,
            "border": null,
            "bottom": null,
            "display": null,
            "flex": null,
            "flex_flow": null,
            "grid_area": null,
            "grid_auto_columns": null,
            "grid_auto_flow": null,
            "grid_auto_rows": null,
            "grid_column": null,
            "grid_gap": null,
            "grid_row": null,
            "grid_template_areas": null,
            "grid_template_columns": null,
            "grid_template_rows": null,
            "height": null,
            "justify_content": null,
            "justify_items": null,
            "left": null,
            "margin": null,
            "max_height": null,
            "max_width": null,
            "min_height": null,
            "min_width": null,
            "object_fit": null,
            "object_position": null,
            "order": null,
            "overflow": null,
            "overflow_x": null,
            "overflow_y": null,
            "padding": null,
            "right": null,
            "top": null,
            "visibility": null,
            "width": null
          }
        },
        "65c22498f0eb4d629f3b10f115864b11": {
          "model_module": "@jupyter-widgets/controls",
          "model_name": "DescriptionStyleModel",
          "model_module_version": "1.5.0",
          "state": {
            "_model_module": "@jupyter-widgets/controls",
            "_model_module_version": "1.5.0",
            "_model_name": "DescriptionStyleModel",
            "_view_count": null,
            "_view_module": "@jupyter-widgets/base",
            "_view_module_version": "1.2.0",
            "_view_name": "StyleView",
            "description_width": ""
          }
        },
        "cbb6cd990d3940f0834b67a8994fba06": {
          "model_module": "@jupyter-widgets/base",
          "model_name": "LayoutModel",
          "model_module_version": "1.2.0",
          "state": {
            "_model_module": "@jupyter-widgets/base",
            "_model_module_version": "1.2.0",
            "_model_name": "LayoutModel",
            "_view_count": null,
            "_view_module": "@jupyter-widgets/base",
            "_view_module_version": "1.2.0",
            "_view_name": "LayoutView",
            "align_content": null,
            "align_items": null,
            "align_self": null,
            "border": null,
            "bottom": null,
            "display": null,
            "flex": null,
            "flex_flow": null,
            "grid_area": null,
            "grid_auto_columns": null,
            "grid_auto_flow": null,
            "grid_auto_rows": null,
            "grid_column": null,
            "grid_gap": null,
            "grid_row": null,
            "grid_template_areas": null,
            "grid_template_columns": null,
            "grid_template_rows": null,
            "height": null,
            "justify_content": null,
            "justify_items": null,
            "left": null,
            "margin": null,
            "max_height": null,
            "max_width": null,
            "min_height": null,
            "min_width": null,
            "object_fit": null,
            "object_position": null,
            "order": null,
            "overflow": null,
            "overflow_x": null,
            "overflow_y": null,
            "padding": null,
            "right": null,
            "top": null,
            "visibility": null,
            "width": null
          }
        },
        "1961179d4aa94c44bcc390775db417df": {
          "model_module": "@jupyter-widgets/controls",
          "model_name": "ProgressStyleModel",
          "model_module_version": "1.5.0",
          "state": {
            "_model_module": "@jupyter-widgets/controls",
            "_model_module_version": "1.5.0",
            "_model_name": "ProgressStyleModel",
            "_view_count": null,
            "_view_module": "@jupyter-widgets/base",
            "_view_module_version": "1.2.0",
            "_view_name": "StyleView",
            "bar_color": null,
            "description_width": ""
          }
        },
        "eac62496c5f84254b80690cc579ce41f": {
          "model_module": "@jupyter-widgets/base",
          "model_name": "LayoutModel",
          "model_module_version": "1.2.0",
          "state": {
            "_model_module": "@jupyter-widgets/base",
            "_model_module_version": "1.2.0",
            "_model_name": "LayoutModel",
            "_view_count": null,
            "_view_module": "@jupyter-widgets/base",
            "_view_module_version": "1.2.0",
            "_view_name": "LayoutView",
            "align_content": null,
            "align_items": null,
            "align_self": null,
            "border": null,
            "bottom": null,
            "display": null,
            "flex": null,
            "flex_flow": null,
            "grid_area": null,
            "grid_auto_columns": null,
            "grid_auto_flow": null,
            "grid_auto_rows": null,
            "grid_column": null,
            "grid_gap": null,
            "grid_row": null,
            "grid_template_areas": null,
            "grid_template_columns": null,
            "grid_template_rows": null,
            "height": null,
            "justify_content": null,
            "justify_items": null,
            "left": null,
            "margin": null,
            "max_height": null,
            "max_width": null,
            "min_height": null,
            "min_width": null,
            "object_fit": null,
            "object_position": null,
            "order": null,
            "overflow": null,
            "overflow_x": null,
            "overflow_y": null,
            "padding": null,
            "right": null,
            "top": null,
            "visibility": null,
            "width": null
          }
        },
        "ad27bbf3dcc1496eb172cadcca8a05a7": {
          "model_module": "@jupyter-widgets/controls",
          "model_name": "DescriptionStyleModel",
          "model_module_version": "1.5.0",
          "state": {
            "_model_module": "@jupyter-widgets/controls",
            "_model_module_version": "1.5.0",
            "_model_name": "DescriptionStyleModel",
            "_view_count": null,
            "_view_module": "@jupyter-widgets/base",
            "_view_module_version": "1.2.0",
            "_view_name": "StyleView",
            "description_width": ""
          }
        }
      }
    }
  },
  "cells": [
    {
      "cell_type": "markdown",
      "source": [
        "# Editais"
      ],
      "metadata": {
        "id": "ikKUVpi3hPO0"
      }
    },
    {
      "cell_type": "markdown",
      "source": [
        "Editais site licitações"
      ],
      "metadata": {
        "id": "k6BK82nsQWwr"
      }
    },
    {
      "cell_type": "code",
      "source": [
        "! gdown --id 19um5yhvJVc4-RBxhG9bqQ2onxbNacrsu"
      ],
      "metadata": {
        "id": "SIGGEtumhRh8",
        "colab": {
          "base_uri": "https://localhost:8080/"
        },
        "outputId": "49b0dc96-b050-4e82-e667-9933554d7a9a"
      },
      "execution_count": 1,
      "outputs": [
        {
          "output_type": "stream",
          "name": "stdout",
          "text": [
            "/usr/local/lib/python3.7/dist-packages/gdown/cli.py:131: FutureWarning: Option `--id` was deprecated in version 4.3.1 and will be removed in 5.0. You don't need to pass it anymore to use a file ID.\n",
            "  category=FutureWarning,\n",
            "Downloading...\n",
            "From: https://drive.google.com/uc?id=19um5yhvJVc4-RBxhG9bqQ2onxbNacrsu\n",
            "To: /content/editaisDocx.rar\n",
            "100% 9.03M/9.03M [00:00<00:00, 44.3MB/s]\n"
          ]
        }
      ]
    },
    {
      "cell_type": "markdown",
      "source": [
        "# Install"
      ],
      "metadata": {
        "id": "Im2VpxyBMzOa"
      }
    },
    {
      "cell_type": "code",
      "source": [
        "!pip install pyunpack\n",
        "!pip install patool"
      ],
      "metadata": {
        "id": "SngfLYoWpCKM"
      },
      "execution_count": null,
      "outputs": []
    },
    {
      "cell_type": "markdown",
      "source": [
        "## Jellyfish"
      ],
      "metadata": {
        "id": "3UwYzD1c0euk"
      }
    },
    {
      "cell_type": "code",
      "source": [
        "!pip install jellyfish"
      ],
      "metadata": {
        "id": "zolCw2cb0gTv"
      },
      "execution_count": null,
      "outputs": []
    },
    {
      "cell_type": "markdown",
      "source": [
        "## Python-docx"
      ],
      "metadata": {
        "id": "PfWh0OrSpZXy"
      }
    },
    {
      "cell_type": "code",
      "source": [
        "!pip install python-docx"
      ],
      "metadata": {
        "id": "HEkKOOFOpawV"
      },
      "execution_count": null,
      "outputs": []
    },
    {
      "cell_type": "markdown",
      "source": [
        "# Extracão DOCX -> TXT e lista de sentenças"
      ],
      "metadata": {
        "id": "BTLYHsiCM_we"
      }
    },
    {
      "cell_type": "code",
      "source": [
        "!mkdir editais"
      ],
      "metadata": {
        "id": "2QtgfICcBs8M"
      },
      "execution_count": 5,
      "outputs": []
    },
    {
      "cell_type": "code",
      "source": [
        "!mkdir editaistxt"
      ],
      "metadata": {
        "id": "6sQDwGMJOPQq"
      },
      "execution_count": 6,
      "outputs": []
    },
    {
      "cell_type": "code",
      "source": [
        "from pyunpack import Archive\n",
        "Archive('./editaisDocx.rar').extractall('./editais')"
      ],
      "metadata": {
        "id": "qxcdm6L_jHKB"
      },
      "execution_count": 7,
      "outputs": []
    },
    {
      "cell_type": "code",
      "source": [
        "import os\n",
        "from docx import Document\n",
        "\n",
        "filename = os.listdir('./editais/')[1]\n",
        "docPath = './editais/' + filename\n",
        "doc = Document(docPath)\n",
        "\n",
        "print(filename)\n",
        "txt = ''\n",
        "sentences = []\n",
        "\n",
        "for p in doc.paragraphs:\n",
        "## docs do site de licitaçõesif p.runs[0].font.color.rgb != (190, 190, 190): ## docs do site de licitações\n",
        "  stripedString = p.text.strip()\n",
        "  txt += stripedString + \"\\n\"\n",
        "  if(stripedString not in [\"\", \" \"]):\n",
        "    sentences.append(stripedString)\n",
        "\n",
        "  ## Checagem pelo fim do termo de referência\n",
        "    endOfTermo =  all(elem in stripedString.lower()  for elem in [\"anexo\", \"- minuta do contrato\"])\n",
        "    endOfTermo2 =  all(elem in stripedString.lower()  for elem in [\"anexo\", \"- minuta de contrato\"])\n",
        "    endOfTermo3 =  all(elem in stripedString.lower()  for elem in [\"anexo\", \"- minuta da ata de registro\"])\n",
        "    if(endOfTermo or endOfTermo2 or endOfTermo3):\n",
        "      break"
      ],
      "metadata": {
        "colab": {
          "base_uri": "https://localhost:8080/"
        },
        "id": "k6O8L8qaAJs3",
        "outputId": "6828f38b-9035-471d-8e49-9d2f051ea481"
      },
      "execution_count": 8,
      "outputs": [
        {
          "output_type": "stream",
          "name": "stdout",
          "text": [
            "PREGÃO PRESENCIAL SRP 076 2022- CASA CIVIL - AQUISICAO DE MATERIAL DE CONSUMO.docx\n"
          ]
        }
      ]
    },
    {
      "cell_type": "markdown",
      "source": [
        "# Código modularizado"
      ],
      "metadata": {
        "id": "D2FeWwyLzspi"
      }
    },
    {
      "cell_type": "markdown",
      "source": [
        "## Funções"
      ],
      "metadata": {
        "id": "MscuWxHdzxV3"
      }
    },
    {
      "cell_type": "markdown",
      "source": [
        "### Remoção de sentenças similares por Levenshtein"
      ],
      "metadata": {
        "id": "DsMniEiH0sYm"
      }
    },
    {
      "cell_type": "code",
      "source": [
        "## FUNÇÃO AUXILIAR DA remove_similar_by_levenshtein()\n",
        "## Identifica os índices a serem removidos e retorna um array de índices (int)\n",
        "\n",
        "import jellyfish as jf\n",
        "\n",
        "def get_removed_index(sentences_array):\n",
        "  repeated = []\n",
        "\n",
        "  for i in range(len(sentences_array)):\n",
        "    aux = []\n",
        "\n",
        "    #busca dentro da lista de repetidas\n",
        "    if(len(repeated) > 0):\n",
        "      for j in repeated:\n",
        "        aux.append(jf.levenshtein_distance(sentences_array[i], sentences_array[j]))\n",
        "\n",
        "      filtered = filter(lambda score: score <= 5, aux)\n",
        "\n",
        "      #se é semelhante a ao menos 1 item da lista, é adicionado\n",
        "      if(len(list(filtered)) > 0):\n",
        "        repeated.append(i)\n",
        "    else:\n",
        "\n",
        "      #busca em todo o doc\n",
        "      for s in sentences_array:\n",
        "        aux.append(jf.levenshtein_distance(sentences_array[i], s))\n",
        "      \n",
        "\n",
        "      filtered = filter(lambda score: score <= 5, aux)\n",
        "      \n",
        "      if(len(list(filtered)) > 15):\n",
        "        repeated.append(i)\n",
        "  \n",
        "  return repeated"
      ],
      "metadata": {
        "id": "tNYDoGjJ1sdJ"
      },
      "execution_count": 9,
      "outputs": []
    },
    {
      "cell_type": "code",
      "source": [
        "## FUNÇÃO AUXILIAR DA remove_similar_by_levenshtein()\n",
        "## Printa as sentenças similares que serão removidas\n",
        "\n",
        "def print_removed_sentences(sentences_array, repeated_index):\n",
        "  lixo = []\n",
        "\n",
        "  for k in repeated_index:\n",
        "    lixo.append(sentences_array[k])\n",
        "\n",
        "  print(\"Foram removidas \" + str(len(lixo)) + \" sentenças\")\n",
        "  print(\"Sentenças removidas:\")\n",
        "  \n",
        "  for sent in lixo:\n",
        "    print(sent)"
      ],
      "metadata": {
        "id": "GohdvGlZ1NUa"
      },
      "execution_count": 10,
      "outputs": []
    },
    {
      "cell_type": "code",
      "source": [
        "## FUNÇÃO AUXILIAR DA remove_similar_by_levenshtein()\n",
        "## Remove as sentenças a partir de um array de índices, retorna um novo array\n",
        "\n",
        "def remove_sentences_by_index(sentences_array, index_array):\n",
        "  cleanSentences = []\n",
        "\n",
        "  for i in range(len(sentences_array)):\n",
        "    if(i not in index_array):\n",
        "      cleanSentences.append(sentences_array[i])\n",
        "  \n",
        "  return cleanSentences"
      ],
      "metadata": {
        "id": "iowGByx728El"
      },
      "execution_count": 11,
      "outputs": []
    },
    {
      "cell_type": "code",
      "source": [
        "import jellyfish as jf\n",
        "\n",
        "def remove_similar_by_levenshtein(sentences_array):\n",
        "  ## identifica os índices das sentenças repetidas\n",
        "  repeated_sentences_index = get_removed_index(sentences_array)\n",
        "\n",
        "  ## Print das sentenças que serão removidas\n",
        "  print_removed_sentences(sentences_array, repeated_sentences_index)\n",
        "\n",
        "  ## Retorna um novo array (sem as repetidas)\n",
        "  cleanSentences = remove_sentences_by_index(sentences_array, repeated_sentences_index)\n",
        "\n",
        "  return cleanSentences"
      ],
      "metadata": {
        "id": "4Nzzhsw00zdw"
      },
      "execution_count": 12,
      "outputs": []
    },
    {
      "cell_type": "markdown",
      "source": [
        "### Segmentação dos itens"
      ],
      "metadata": {
        "id": "hIQ62qrr7EIQ"
      }
    },
    {
      "cell_type": "code",
      "source": [
        "## Segmenta as sentenças por seção, criando uma matriz de sentenças. Retorna um novo array\n",
        "\n",
        "import re\n",
        "\n",
        "def segments_sentences(sentences_array):\n",
        "\n",
        "  segmented_sentences = []\n",
        "  section = '1'\n",
        "  toAdd = []\n",
        "  started = False;\n",
        "\n",
        "  #segmentação dos itens\n",
        "  for s in sentences_array:\n",
        "    \n",
        "    #busca sentenças no padrão '1. - 1.1 - 1.1.1 ...'\n",
        "    if(re.match(r'^\\d+[.](\\d{1,2}([.]|\\s)|\\s)', s)):\n",
        "      started = True;\n",
        "      if(s.split(\".\")[0] == section):\n",
        "        toAdd.append(s)\n",
        "      else:\n",
        "        segmented_sentences.append(toAdd)\n",
        "        section = s.split(\".\")[0]\n",
        "        toAdd = []\n",
        "        toAdd.append(s)\n",
        "  \n",
        "    #busca sentenças no padrão 'a. a- a) II. II- II) ...'\n",
        "    elif(re.match(r'^([a-z]|[IVX]*)[)-.]\\s', s)):\n",
        "      toAdd.append(s)\n",
        "    \n",
        "    #busca sentenças no padrão 'a.1. a.1- a.1) ...'\n",
        "    elif(re.match(r'^[a-z][.][1-9][-.)]', s)):\n",
        "      toAdd.append(s)\n",
        "    else:\n",
        "      if(started):\n",
        "        toAdd.append(s)\n",
        "\n",
        "\n",
        "  segmented_sentences.append(toAdd)\n",
        "  \n",
        "  return segmented_sentences"
      ],
      "metadata": {
        "id": "pxCavBdn7Imx"
      },
      "execution_count": 13,
      "outputs": []
    },
    {
      "cell_type": "code",
      "source": [
        "## Corrige casos de itens descontinuados, onde a quebra de linha do PDF separou sentenças que não deveria\n",
        "## Modifica o array passado como parâmetro\n",
        "\n",
        "def fix_discontinued_itens(segmented_sentences):\n",
        " \n",
        "  for sub_list in segmented_sentences:\n",
        "    ## busca em sub listas (seções) com pelo menos 2 sentenças\n",
        "    if(len(sub_list) > 1):\n",
        "      i = 1\n",
        "      while (i < len(sub_list)):\n",
        "        ## se sentença não começa com indicadores ex: '1. a) III-'\n",
        "        if(not re.match(r'^\\d+[.](\\d{1,2}([.]|\\s)|\\s)', sub_list[i]) and not re.match(r'^([a-z]|[IVX]+)[)-.]\\s', sub_list[i]) \n",
        "        and not re.match(r'^[a-z][.][1-9][-.)]', sub_list[i])):\n",
        "          ## se não termina com . ou ; pode ter mais\n",
        "          if(sub_list[i].endswith('.') or sub_list[i].endswith(';')):\n",
        "            sub_list[i - 1] += \" \" + sub_list[i]\n",
        "            sub_list[i] = ''\n",
        "            i += 1\n",
        "          else:\n",
        "            j = i;\n",
        "            while(not sub_list[j].endswith('.') and not sub_list[j].endswith(';')):\n",
        "              sub_list[i - 1] += \" \" + sub_list[j]\n",
        "              sub_list[j] = ''\n",
        "              if(j+1 < len(sub_list)):\n",
        "                j += 1\n",
        "              else:\n",
        "                break\n",
        "            sub_list[i - 1] += \" \" + sub_list[j]\n",
        "            sub_list[j] = ''\n",
        "            i = j + 1\n",
        "        else:\n",
        "          i += 1\n",
        "  \n",
        "  ## as sentenças corrigidas são marcadas com '' para serem removidas e não ficar duplicadas\n",
        "  fixed_sentences = []\n",
        "\n",
        "  for sub_list in segmented_sentences:\n",
        "    auxL = []\n",
        "    for sent in sub_list:\n",
        "      if(sent != ''):\n",
        "        auxL.append(sent)\n",
        "    fixed_sentences.append(auxL)\n",
        "  \n",
        "  return fixed_sentences"
      ],
      "metadata": {
        "id": "pv7ZcwH08f-g"
      },
      "execution_count": 14,
      "outputs": []
    },
    {
      "cell_type": "code",
      "source": [
        "## Corrige casos de 2 itens (sentenças) em 1 só\n",
        "## Modifica o array passado como parâmetro\n",
        "\n",
        "def fix_2_itens_same_sentence(segmented_sentences):\n",
        "  for i in range(len(segmented_sentences)):\n",
        "    for j in range(len(segmented_sentences[i])):\n",
        "      if(re.search(r'\\s\\d+[.]((\\d+[.])*|\\d*)*\\s[A-Z]', segmented_sentences[i][j])):\n",
        "        index = re.search(r'\\s\\d+[.]((\\d+[.])*|\\d*)*\\s[A-Z]', segmented_sentences[i][j]).span()[0]\n",
        "        auxString = segmented_sentences[i][j][index + 1:]\n",
        "        segmented_sentences[i][j] = segmented_sentences[i][j][0:index]\n",
        "        segmented_sentences[i].insert(j + 1, auxString)"
      ],
      "metadata": {
        "id": "kKMAn5iN-kN9"
      },
      "execution_count": 15,
      "outputs": []
    },
    {
      "cell_type": "markdown",
      "source": [
        "# Carregar modelo"
      ],
      "metadata": {
        "id": "iO2mEdp9WMW0"
      }
    },
    {
      "cell_type": "markdown",
      "source": [
        "###Carregando modelo"
      ],
      "metadata": {
        "id": "oVXYTh7fg3vZ"
      }
    },
    {
      "cell_type": "code",
      "source": [
        "! gdown --id 19lTATTANgEH5EXSAgR8HcGQHxhKS8Olj"
      ],
      "metadata": {
        "id": "AmKYAB3yWcrz",
        "colab": {
          "base_uri": "https://localhost:8080/"
        },
        "outputId": "46e50597-17bb-49ad-92cb-d0c3ccda8a1e"
      },
      "execution_count": 16,
      "outputs": [
        {
          "output_type": "stream",
          "name": "stdout",
          "text": [
            "/usr/local/lib/python3.7/dist-packages/gdown/cli.py:131: FutureWarning: Option `--id` was deprecated in version 4.3.1 and will be removed in 5.0. You don't need to pass it anymore to use a file ID.\n",
            "  category=FutureWarning,\n",
            "Downloading...\n",
            "From: https://drive.google.com/uc?id=19lTATTANgEH5EXSAgR8HcGQHxhKS8Olj\n",
            "To: /content/model.zip\n",
            "100% 1.24G/1.24G [00:10<00:00, 120MB/s]\n"
          ]
        }
      ]
    },
    {
      "cell_type": "code",
      "source": [
        "!unzip \"./model.zip\" -d \"./\""
      ],
      "metadata": {
        "id": "TNQnawv2gxx5",
        "colab": {
          "base_uri": "https://localhost:8080/"
        },
        "outputId": "96618ec2-6081-40f3-9795-9d1ec64bf219"
      },
      "execution_count": 17,
      "outputs": [
        {
          "output_type": "stream",
          "name": "stdout",
          "text": [
            "Archive:  ./model.zip\n",
            "   creating: ./content/model/\n",
            "  inflating: ./content/model/pytorch_model.bin  \n",
            "  inflating: ./content/model/config.json  \n"
          ]
        }
      ]
    },
    {
      "cell_type": "markdown",
      "source": [
        "### Installs e Imports"
      ],
      "metadata": {
        "id": "NsnsAKYEBUiK"
      }
    },
    {
      "cell_type": "code",
      "source": [
        "!pip3 install transformers"
      ],
      "metadata": {
        "id": "t1T8yyHlhLv_",
        "colab": {
          "base_uri": "https://localhost:8080/"
        },
        "outputId": "4dd92ca5-0e0d-40e5-ba36-d63cbfed3153"
      },
      "execution_count": 18,
      "outputs": [
        {
          "output_type": "stream",
          "name": "stdout",
          "text": [
            "Looking in indexes: https://pypi.org/simple, https://us-python.pkg.dev/colab-wheels/public/simple/\n",
            "Collecting transformers\n",
            "  Downloading transformers-4.21.1-py3-none-any.whl (4.7 MB)\n",
            "\u001b[K     |████████████████████████████████| 4.7 MB 8.2 MB/s \n",
            "\u001b[?25hRequirement already satisfied: packaging>=20.0 in /usr/local/lib/python3.7/dist-packages (from transformers) (21.3)\n",
            "Requirement already satisfied: filelock in /usr/local/lib/python3.7/dist-packages (from transformers) (3.8.0)\n",
            "Requirement already satisfied: requests in /usr/local/lib/python3.7/dist-packages (from transformers) (2.23.0)\n",
            "Collecting tokenizers!=0.11.3,<0.13,>=0.11.1\n",
            "  Downloading tokenizers-0.12.1-cp37-cp37m-manylinux_2_12_x86_64.manylinux2010_x86_64.whl (6.6 MB)\n",
            "\u001b[K     |████████████████████████████████| 6.6 MB 18.3 MB/s \n",
            "\u001b[?25hRequirement already satisfied: tqdm>=4.27 in /usr/local/lib/python3.7/dist-packages (from transformers) (4.64.0)\n",
            "Requirement already satisfied: importlib-metadata in /usr/local/lib/python3.7/dist-packages (from transformers) (4.12.0)\n",
            "Collecting pyyaml>=5.1\n",
            "  Downloading PyYAML-6.0-cp37-cp37m-manylinux_2_5_x86_64.manylinux1_x86_64.manylinux_2_12_x86_64.manylinux2010_x86_64.whl (596 kB)\n",
            "\u001b[K     |████████████████████████████████| 596 kB 69.3 MB/s \n",
            "\u001b[?25hRequirement already satisfied: regex!=2019.12.17 in /usr/local/lib/python3.7/dist-packages (from transformers) (2022.6.2)\n",
            "Requirement already satisfied: numpy>=1.17 in /usr/local/lib/python3.7/dist-packages (from transformers) (1.21.6)\n",
            "Collecting huggingface-hub<1.0,>=0.1.0\n",
            "  Downloading huggingface_hub-0.8.1-py3-none-any.whl (101 kB)\n",
            "\u001b[K     |████████████████████████████████| 101 kB 12.9 MB/s \n",
            "\u001b[?25hRequirement already satisfied: typing-extensions>=3.7.4.3 in /usr/local/lib/python3.7/dist-packages (from huggingface-hub<1.0,>=0.1.0->transformers) (4.1.1)\n",
            "Requirement already satisfied: pyparsing!=3.0.5,>=2.0.2 in /usr/local/lib/python3.7/dist-packages (from packaging>=20.0->transformers) (3.0.9)\n",
            "Requirement already satisfied: zipp>=0.5 in /usr/local/lib/python3.7/dist-packages (from importlib-metadata->transformers) (3.8.1)\n",
            "Requirement already satisfied: chardet<4,>=3.0.2 in /usr/local/lib/python3.7/dist-packages (from requests->transformers) (3.0.4)\n",
            "Requirement already satisfied: certifi>=2017.4.17 in /usr/local/lib/python3.7/dist-packages (from requests->transformers) (2022.6.15)\n",
            "Requirement already satisfied: idna<3,>=2.5 in /usr/local/lib/python3.7/dist-packages (from requests->transformers) (2.10)\n",
            "Requirement already satisfied: urllib3!=1.25.0,!=1.25.1,<1.26,>=1.21.1 in /usr/local/lib/python3.7/dist-packages (from requests->transformers) (1.24.3)\n",
            "Installing collected packages: pyyaml, tokenizers, huggingface-hub, transformers\n",
            "  Attempting uninstall: pyyaml\n",
            "    Found existing installation: PyYAML 3.13\n",
            "    Uninstalling PyYAML-3.13:\n",
            "      Successfully uninstalled PyYAML-3.13\n",
            "Successfully installed huggingface-hub-0.8.1 pyyaml-6.0 tokenizers-0.12.1 transformers-4.21.1\n"
          ]
        }
      ]
    },
    {
      "cell_type": "code",
      "source": [
        "import os\n",
        "import torch\n",
        "import torch.nn as nn\n",
        "from torch import optim\n",
        "from transformers import AutoTokenizer, AutoModelForSequenceClassification, BertTokenizer, BertForSequenceClassification\n",
        "from torch.utils.data import DataLoader\n"
      ],
      "metadata": {
        "id": "AGaqgabzhGrQ"
      },
      "execution_count": 19,
      "outputs": []
    },
    {
      "cell_type": "markdown",
      "source": [
        "### Inicializando modelo"
      ],
      "metadata": {
        "id": "jkD8vI-YBYhh"
      }
    },
    {
      "cell_type": "code",
      "source": [
        "device = torch.device('cuda' if torch.cuda.is_available() else 'cpu')\n",
        "nclasses = 7\n",
        "learning_rate = 1e-5\n",
        "write_path = 'model'"
      ],
      "metadata": {
        "id": "kP6a4R8ug7Ep"
      },
      "execution_count": 20,
      "outputs": []
    },
    {
      "cell_type": "code",
      "source": [
        "tokenizer = BertTokenizer.from_pretrained('neuralmind/bert-large-portuguese-cased', do_lower_case=False)\n",
        "model = BertForSequenceClassification.from_pretrained(\"./content/model\",\n",
        "                                                       num_labels=nclasses,\n",
        "                                                      output_attentions = False,\n",
        "                                                      output_hidden_states = False).to(device)\n",
        "# model.cuda()\n",
        "\n",
        "optimizer = optim.AdamW(model.parameters(), lr=learning_rate)"
      ],
      "metadata": {
        "id": "wHcEFIP7hDjW",
        "colab": {
          "base_uri": "https://localhost:8080/",
          "height": 177,
          "referenced_widgets": [
            "3e92b4b1ac6341bf9356a4aa35e74921",
            "591f9b4f4d4e4987a29f24d41a783de9",
            "dbff297e58114b21ae42495dd84d0fee",
            "cd65c9e2214d4d78a13c47a81126f6b3",
            "ae5ffebc3f80434091e8b57ade62a383",
            "48725d945047430a9e9f5777337763a9",
            "b370b699b66c434a8aa8998028be6751",
            "686e9dec1817415dae1a7ab4c9883ce2",
            "972a97b3a0e24f10a689003b1ef98fda",
            "a013c9f681484bfcac5f56bcb372cc26",
            "0c39e211a79e486eb4f814a4c948f3d4",
            "e4d5d12a8bff42d68f651c84cb4320d1",
            "38618cdb7de44f5bb155b4d683307227",
            "0d54f041d5754d129e626a36041db7cf",
            "7dccd7f4bf75472e84924e78a00195ff",
            "274d2cccd4594f85b4222e0aa8d87e6c",
            "086d9334b06a436cb6e90491874360fd",
            "3b893ca91f694a14a9c74e11e49f3ad1",
            "41991532c870457c850d26b56d67ddf7",
            "1e25f27365514d96a2e5fa00009c38fd",
            "16f3ee048eb9487d92af1e0175a5f514",
            "3557328480c243588858bbcbe4828934",
            "0f97e08272ee4e849452e99dba157ad9",
            "440b4475ca764390ad241779103da258",
            "ad5b6af23b124e398fff229966b20e9d",
            "cc519240ce5e42f99e13c17f20c6928b",
            "4ba15deb5166474dad6731b5b392080e",
            "ad864a2199b54905bda848ad20748de0",
            "1afe71c4d7644490975b2d298f8340dc",
            "eaf8ea12940e4fc6bb92ae28890837b3",
            "53e02838d71d421e85799b7a0ab5cf57",
            "644b80c369d8493d967f7eb4b09c4ffe",
            "4d76ed5f3b644c089725fa1d33441878",
            "f24dbf4d78aa4572bf273def01937254",
            "90c7b105b52b487fb2f1d965e9b420e6",
            "3c504eb106004412a6ea635d2a55e8d6",
            "e9dcc585ecc042e79c8816044002aa20",
            "ebe901ed4dfd481f87a533cd664a64a2",
            "dd88e3c0995c4f199602808f361a7125",
            "6ecc4900951d407dbbd2aeeb20b109af",
            "84f8f4df53e947f4af65d2bcd793f14d",
            "e80a9a966dba4c56ada2c5e60ec01750",
            "af7cf44965f8455294ac3ac48e311053",
            "699e2dda7c9b46ecba7515a5ec4414bb",
            "05a2bd9e5c5e40d8863cd2769499f699",
            "8753451727834765bad8fda4cf7ebbc9",
            "9fc3eb2a4a7d43ce8e07f75340a84058",
            "5be09ec4660f4579bfa25f23c0cc535a",
            "ae4f4649c267497d81f79deb503e9e3f",
            "43bec19bd5a341349c1a7c3908fe1c51",
            "65c22498f0eb4d629f3b10f115864b11",
            "cbb6cd990d3940f0834b67a8994fba06",
            "1961179d4aa94c44bcc390775db417df",
            "eac62496c5f84254b80690cc579ce41f",
            "ad27bbf3dcc1496eb172cadcca8a05a7"
          ]
        },
        "outputId": "ad06243b-64ad-402a-d875-f79b470ba7a3"
      },
      "execution_count": 21,
      "outputs": [
        {
          "output_type": "display_data",
          "data": {
            "text/plain": [
              "Downloading vocab.txt:   0%|          | 0.00/205k [00:00<?, ?B/s]"
            ],
            "application/vnd.jupyter.widget-view+json": {
              "version_major": 2,
              "version_minor": 0,
              "model_id": "3e92b4b1ac6341bf9356a4aa35e74921"
            }
          },
          "metadata": {}
        },
        {
          "output_type": "display_data",
          "data": {
            "text/plain": [
              "Downloading added_tokens.json:   0%|          | 0.00/2.00 [00:00<?, ?B/s]"
            ],
            "application/vnd.jupyter.widget-view+json": {
              "version_major": 2,
              "version_minor": 0,
              "model_id": "e4d5d12a8bff42d68f651c84cb4320d1"
            }
          },
          "metadata": {}
        },
        {
          "output_type": "display_data",
          "data": {
            "text/plain": [
              "Downloading special_tokens_map.json:   0%|          | 0.00/112 [00:00<?, ?B/s]"
            ],
            "application/vnd.jupyter.widget-view+json": {
              "version_major": 2,
              "version_minor": 0,
              "model_id": "0f97e08272ee4e849452e99dba157ad9"
            }
          },
          "metadata": {}
        },
        {
          "output_type": "display_data",
          "data": {
            "text/plain": [
              "Downloading tokenizer_config.json:   0%|          | 0.00/155 [00:00<?, ?B/s]"
            ],
            "application/vnd.jupyter.widget-view+json": {
              "version_major": 2,
              "version_minor": 0,
              "model_id": "f24dbf4d78aa4572bf273def01937254"
            }
          },
          "metadata": {}
        },
        {
          "output_type": "display_data",
          "data": {
            "text/plain": [
              "Downloading config.json:   0%|          | 0.00/648 [00:00<?, ?B/s]"
            ],
            "application/vnd.jupyter.widget-view+json": {
              "version_major": 2,
              "version_minor": 0,
              "model_id": "05a2bd9e5c5e40d8863cd2769499f699"
            }
          },
          "metadata": {}
        }
      ]
    },
    {
      "cell_type": "markdown",
      "source": [
        "# Aplicação do modelo nas sentenças de um documento"
      ],
      "metadata": {
        "id": "wQvHWqOTKkpu"
      }
    },
    {
      "cell_type": "markdown",
      "source": [
        "## Funções auxiliares"
      ],
      "metadata": {
        "id": "xvKN3nEZA0hH"
      }
    },
    {
      "cell_type": "code",
      "source": [
        "## FUNÇÃO AUXILIAR DA apply_model\n",
        "## Adiciona o elemento no array apropriado de acordo com sua label\n",
        "\n",
        "def add_to_right_array(elem, label):\n",
        "  if(label == 0):\n",
        "    objeto.append((elem, label))\n",
        "  if(label == 1):\n",
        "    qualificacao_tecnica.append((elem, label))\n",
        "  if(label == 2):\n",
        "    prazo_pagamento.append((elem, label))\n",
        "  if(label == 3):\n",
        "    clausula_atraso.append((elem, label))\n",
        "  if(label == 4):\n",
        "    prazo_entrega.append((elem, label))\n",
        "  if(label == 5):\n",
        "    local.append((elem, label))"
      ],
      "metadata": {
        "id": "TtLdO8VCVXDu"
      },
      "execution_count": 22,
      "outputs": []
    },
    {
      "cell_type": "code",
      "source": [
        "## FUNÇÃO AUXILIAR DA apply_model\n",
        "## Extrai apenas o texto da sentenças, ignorando a numeração da seção \"1.1 2.2 3.3\"\n",
        "\n",
        "def extract_only_text(txt):\n",
        "  if(re.match(r'^\\d+[.](\\d{1,2}([.]|\\s)|\\s)', txt)):\n",
        "      index_init = re.match(r'^\\d+[.](\\d{1,2}([.]|\\s)|\\s)', txt).span()[1]\n",
        "  else:\n",
        "    index_init = 0\n",
        "    \n",
        "  return index_init"
      ],
      "metadata": {
        "id": "i-k0ZpcWTpJM"
      },
      "execution_count": 23,
      "outputs": []
    },
    {
      "cell_type": "code",
      "source": [
        "## Aplica o modelo no array de sentenças segmentado, e adiciona as informações identificadas nos respectivos arrays\n",
        "\n",
        "## Arrays para guardar as informações separadamente\n",
        "objeto = []\n",
        "qualificacao_tecnica = []\n",
        "prazo_pagamento = []\n",
        "clausula_atraso = []\n",
        "prazo_entrega = []\n",
        "local = []\n",
        "\n",
        "def apply_model(segmented_sentence_array):\n",
        "\n",
        "  for sessao in segmented_sentence_array:\n",
        "    for i in range(1, len(sessao)):\n",
        "      sentence = sessao[i]\n",
        "      index_init = extract_only_text(sentence)\n",
        "      input_text = sentence[index_init:]\n",
        "\n",
        "      input = tokenizer(input_text, return_tensors='pt', padding=True, truncation=True, max_length=128).to(device)\n",
        "      output = model(**input)\n",
        "      x = torch.argmax(output.logits, 1)\n",
        "      if(x.item() < 6):\n",
        "        add_to_right_array(sentence, x.item())"
      ],
      "metadata": {
        "id": "eW0WHD7QKnx-"
      },
      "execution_count": 24,
      "outputs": []
    },
    {
      "cell_type": "code",
      "source": [
        "## Print das informações identificadas pelo modelo\n",
        "\n",
        "def print_identified_info():\n",
        "  print(\"OBJETO:\")\n",
        "  for el in objeto:\n",
        "    print(el[0])\n",
        "\n",
        "  print(\"\\nQUALIFICAÇÃO TÉCNICA: \\n\")\n",
        "  for el in qualificacao_tecnica:\n",
        "    print(el[0])\n",
        "\n",
        "  print(\"\\nPRAZO DE PAGAMENTO: \\n\")\n",
        "  for el in prazo_pagamento:\n",
        "    print(el[0])\n",
        "\n",
        "  print(\"\\nCLAUSULA DE ATRASO: \\n\")\n",
        "  for el in clausula_atraso:\n",
        "    print(el[0])\n",
        "\n",
        "  print(\"\\nPRAZO DE ENTREGA: \\n\")\n",
        "  for el in prazo_entrega:\n",
        "    print(el[0])\n",
        "\n",
        "  print(\"\\nLOCAL DE ENTREGA/EXECUÇÃO DO SERVIÇO: \\n\")\n",
        "  for el in local:\n",
        "    print(el[0])"
      ],
      "metadata": {
        "id": "WSFojZWILbPl"
      },
      "execution_count": 25,
      "outputs": []
    },
    {
      "cell_type": "markdown",
      "source": [
        "## Aplicação Fluxo completo"
      ],
      "metadata": {
        "id": "0Q2U1BztCxxs"
      }
    },
    {
      "cell_type": "code",
      "source": [
        "## Fluxo partindo do array de sentenças extraído do DOCX \"sentences\"\n",
        "\n",
        "#Remoção de sentenças similares\n",
        "clean_sentences = remove_similar_by_levenshtein(sentences)"
      ],
      "metadata": {
        "colab": {
          "base_uri": "https://localhost:8080/"
        },
        "id": "3xBx_GkvCzIR",
        "outputId": "40e53ce9-71fd-4555-9e15-eb5e3f6739af"
      },
      "execution_count": 26,
      "outputs": [
        {
          "output_type": "stream",
          "name": "stdout",
          "text": [
            "Foram removidas 27 sentenças\n",
            "Sentenças removidas:\n",
            "Edital Pregão Presencial SRP n 076/2022-CASA CIVIL (4008415) SEI 4002.013160.00018/2022-01 / pg. 3\n",
            "Edital Pregão Presencial SRP n 076/2022-CASA CIVIL (4008415) SEI 4002.013160.00018/2022-01 / pg. 4\n",
            "Edital Pregão Presencial SRP n 076/2022-CASA CIVIL (4008415) SEI 4002.013160.00018/2022-01 / pg. 5\n",
            "Edital Pregão Presencial SRP n 076/2022-CASA CIVIL (4008415) SEI 4002.013160.00018/2022-01 / pg. 6\n",
            "Edital Pregão Presencial SRP n 076/2022-CASA CIVIL (4008415) SEI 4002.013160.00018/2022-01 / pg. 7\n",
            "Edital Pregão Presencial SRP n 076/2022-CASA CIVIL (4008415) SEI 4002.013160.00018/2022-01 / pg. 8\n",
            "Edital Pregão Presencial SRP n 076/2022-CASA CIVIL (4008415) SEI 4002.013160.00018/2022-01 / pg. 12\n",
            "Edital Pregão Presencial SRP n 076/2022-CASA CIVIL (4008415) SEI 4002.013160.00018/2022-01 / pg. 13\n",
            "Edital Pregão Presencial SRP n 076/2022-CASA CIVIL (4008415) SEI 4002.013160.00018/2022-01 / pg. 14\n",
            "Edital Pregão Presencial SRP n 076/2022-CASA CIVIL (4008415) SEI 4002.013160.00018/2022-01 / pg. 16\n",
            "Edital Pregão Presencial SRP n 076/2022-CASA CIVIL (4008415) SEI 4002.013160.00018/2022-01 / pg. 17\n",
            "Edital Pregão Presencial SRP n 076/2022-CASA CIVIL (4008415) SEI 4002.013160.00018/2022-01 / pg. 18\n",
            "Edital Pregão Presencial SRP n 076/2022-CASA CIVIL (4008415) SEI 4002.013160.00018/2022-01 / pg. 19\n",
            "Edital Pregão Presencial SRP n 076/2022-CASA CIVIL (4008415) SEI 4002.013160.00018/2022-01 / pg. 20\n",
            "Edital Pregão Presencial SRP n 076/2022-CASA CIVIL (4008415) SEI 4002.013160.00018/2022-01 / pg. 21\n",
            "Edital Pregão Presencial SRP n 076/2022-CASA CIVIL (4008415) SEI 4002.013160.00018/2022-01 / pg. 22\n",
            "Edital Pregão Presencial SRP n 076/2022-CASA CIVIL (4008415) SEI 4002.013160.00018/2022-01 / pg. 23\n",
            "Edital Pregão Presencial SRP n 076/2022-CASA CIVIL (4008415) SEI 4002.013160.00018/2022-01 / pg. 24\n",
            "Edital Pregão Presencial SRP n 076/2022-CASA CIVIL (4008415) SEI 4002.013160.00018/2022-01 / pg. 27\n",
            "Edital Pregão Presencial SRP n 076/2022-CASA CIVIL (4008415) SEI 4002.013160.00018/2022-01 / pg. 28\n",
            "Edital Pregão Presencial SRP n 076/2022-CASA CIVIL (4008415) SEI 4002.013160.00018/2022-01 / pg. 29\n",
            "Edital Pregão Presencial SRP n 076/2022-CASA CIVIL (4008415) SEI 4002.013160.00018/2022-01 / pg. 30\n",
            "Edital Pregão Presencial SRP n 076/2022-CASA CIVIL (4008415) SEI 4002.013160.00018/2022-01 / pg. 31\n",
            "Edital Pregão Presencial SRP n 076/2022-CASA CIVIL (4008415) SEI 4002.013160.00018/2022-01 / pg. 33\n",
            "Edital Pregão Presencial SRP n 076/2022-CASA CIVIL (4008415) SEI 4002.013160.00018/2022-01 / pg. 34\n",
            "Edital Pregão Presencial SRP n 076/2022-CASA CIVIL (4008415) SEI 4002.013160.00018/2022-01 / pg. 35\n",
            "Edital Pregão Presencial SRP n 076/2022-CASA CIVIL (4008415) SEI 4002.013160.00018/2022-01 / pg. 37\n"
          ]
        }
      ]
    },
    {
      "cell_type": "code",
      "source": [
        "# Segmentação das sentenças\n",
        "\n",
        "segmented_sentences = segments_sentences(clean_sentences)\n",
        "segmented_sentences = fix_discontinued_itens(segmented_sentences)\n",
        "fix_2_itens_same_sentence(segmented_sentences)"
      ],
      "metadata": {
        "id": "YoSWlHcTEKFW"
      },
      "execution_count": 27,
      "outputs": []
    },
    {
      "cell_type": "code",
      "source": [
        "segmented_sentences"
      ],
      "metadata": {
        "id": "FAobvd99EwP8"
      },
      "execution_count": null,
      "outputs": []
    },
    {
      "cell_type": "code",
      "source": [
        "# Aplicação do modelo\n",
        "\n",
        "apply_model(segmented_sentences)\n",
        "\n",
        "## print das informações identificadas\n",
        "\n",
        "print_identified_info()"
      ],
      "metadata": {
        "colab": {
          "base_uri": "https://localhost:8080/"
        },
        "id": "9PGJbIuvIDZN",
        "outputId": "feb50407-100c-4f36-ff92-387adf9a069b"
      },
      "execution_count": 29,
      "outputs": [
        {
          "output_type": "stream",
          "name": "stdout",
          "text": [
            "OBJETO:\n",
            "2.1. Registro de preços para aquisição de material de consumo (materiais elétricos e eletrônicos), visando atender às eventuais necessidades da Secretaria de Estado da Casa Civil e anexos, conforme condições, quantidades e exigências estabelecidas neste Termo de Referência.\n",
            "1.1. Registro de preços para aquisição de material de consumo (materiais elétricos e eletrônicos), visando atender às eventuais necessidades da Secretaria de Estado da Casa Civil e anexos, conforme condições, quantidades e exigências estabelecidas neste Termo de Referência.\n",
            "4.1. A realização do certame objetiva o Registro de preços para aquisição de material de consumo materiais elétricos e eletrônicos, visando atender às eventuais necessidades da Secretaria de Estado da Casa Civil e anexos,. O objeto ora licitado têm como fonte a ser utilizada o Recurso Próprio (Fonte 100).\n",
            "\n",
            "QUALIFICAÇÃO TÉCNICA: \n",
            "\n",
            "a) Atestado de capacidade técnica, expedidos por pessoas jurídicas de direito público ou privado, que comprovem ter o licitante fornecido satisfatoriamente os materiais ou serviços pertinentes e compatíveis com o objeto desta licitação. Podendo ser exigido da proposta melhor classificada, em diligência, que apresente cópia autenticada do contrato da prestação do serviço ou da respectiva nota fiscal, que deram origem ao Atestado.\n",
            "15.1. Comprovação através de Atestado de Capacidade Técnica, expedido por pessoa jurídica de direito público ou privado, que comprovem ter o licitante fornecido satisfatoriamente os materiais pertinentes e compatíveis com o objeto desta licitação. Podendo ser exigido da proposta melhor classificada, em diligencia, que apresente cópia autentica do contrato do fornecimento do objeto ou da nota fiscal, que deram origem ao atestado.\n",
            "\n",
            "PRAZO DE PAGAMENTO: \n",
            "\n",
            "27.3. A multa deverá ser recolhida no prazo máximo de 20 (vinte) dias corridos, a contar da data do recebimento da comunicação enviada pelo órgão.\n",
            "19.1. O pagamento dos materiais efetivamente fornecidos será creditado em nome da Contratada, em conta corrente por ela indicada, em moeda corrente nacional, mediante ordem bancária, uma vez satisfeitas as formalidades previstas nos Arts. 5º, 73 e 15, § 8º, da Lei 8.666/93 e, ocorrerá no prazo máximo de trinta dias, nos termos do art. 40, XIV, alínea “a”, da Lei nº 8.666/93, contado do devido ateste da Nota Fiscal/Fatura, que deverá ser efetuado pela fiscalização do contrato em até 05 (cinco) dias úteis após a apresentação dos documentos de cobrança.\n",
            "19.2. Os pagamentos decorrentes de despesas cujos valores não ultrapassem o montante de R$ 8.000,00 (oito mil reais) deverão ser efetuados no prazo de até 05 (cinco) dias úteis, contados da data de apresentação da Nota Fiscal/Fatura, nos termos do art. 5º, § 3º, da Lei nº 8.666/93;\n",
            "\n",
            "CLAUSULA DE ATRASO: \n",
            "\n",
            "19.14. Quando da ocorrência de eventuais atrasos de pagamento provocados exclusivamente pela Administração, o valor devido será acrescido de atualização financeira, e sua apuração se fará desde a data de seu vencimento até a data do efetivo pagamento, em que os juros de mora serão calculados à taxa de 0,5 % (zero vírgula cinco) por cento ao mês e de 6% (seis por cento) ao ano, pro rata die e de forma não composta, mediante aplicação da seguinte formula: EM = VP x N x I, onde: EM = Encargos moratórios.\n",
            " N = Número de dias entre a data prevista para o pagamento e a do efetivo pagamento.\n",
            "\n",
            "PRAZO DE ENTREGA: \n",
            "\n",
            "10.3. As amostras rejeitadas deverão ser retiradas em até 20 (vinte) dias corridos contados da publicação do resultado do Pregão, independente de comunicação.\n",
            "11.1. O fornecimento será efetuado sob demanda, com prazo máximo de 5 (cinco dias) dias a contar do recebimento da Ordem de Entrega expedida pela Secretaria de Estado da Casa Civil;\n",
            "\n",
            "LOCAL DE ENTREGA/EXECUÇÃO DO SERVIÇO: \n",
            "\n",
            "5.1. Os produtos deverão ser entregues no local e nos prazos e condições indicados no Anexo I – Termo de Referência.\n",
            "10.2. As amostras deverão ser entregues à Divisão de Gestão de Bens da Secretaria de Estado da Casa Civil, no endereço: Avenida Brasil, nº 402 – Bairro Centro, Rio Branco-Acre, CEP 69900-078, após o recebimento de Ordem de Entrega previamente emitida pela Divisão de Licitações e Contratos, seguindo as diretrizes gerais deste TR.\n",
            "11.2. Os itens deverão ser entregues à Divisão de Gestão de Bens da Secretaria de Estado da Casa Civil, no endereço: Avenida Brasil, nº 402 – Bairro Centro, Rio Branco-Acre, CEP 69900-078, após o recebimento de Ordem de Entrega previamente emitida pela Divisão de Licitações e Contratos, seguindo as diretrizes gerais deste TR.\n",
            "11.3. As entregas deverão ocorrer no endereço indicado no item anterior, de segunda a quinta-feira de 8h às 11h e de 14h as 17h e às sextas-feiras de 7h às 12h.\n",
            " Av. Brasil, Nº 402 - Centro;\n",
            " CEP: 69.900-078.\n"
          ]
        }
      ]
    }
  ]
}